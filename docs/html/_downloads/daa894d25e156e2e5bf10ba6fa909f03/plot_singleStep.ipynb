{
  "cells": [
    {
      "cell_type": "markdown",
      "metadata": {},
      "source": [
        "\n# Single timestep\n\nIllustrates setting up a simulation and solving at a single time step\n"
      ]
    },
    {
      "cell_type": "code",
      "execution_count": null,
      "metadata": {
        "collapsed": false
      },
      "outputs": [],
      "source": [
        "from platform import release\nimport re\nimport numpy as np\nimport xcell as xc\nimport matplotlib.pyplot as plt"
      ]
    },
    {
      "cell_type": "markdown",
      "metadata": {},
      "source": [
        "## Set simulation preferences\n\n\n"
      ]
    },
    {
      "cell_type": "code",
      "execution_count": null,
      "metadata": {
        "collapsed": false
      },
      "outputs": [],
      "source": [
        "# Misc parameters\nstudy_path = \"/dev/null\"\n\n# options = uniform, adaptive\nmeshtype = \"adaptive\"\n\nmax_depth = 10  # Maximum successive splits allowed for octree mesh\nnX = 10  # Number of elements along an axis for a uniform mesh\n\n# options: Admittance, Face, FEM\nelement_type = \"Admittance\"\ndual = True\nregularize = False\n\n# options: analytical, ground\nboundaryType = \"ground\"\n\nfixedSource = False  # otherwise, simulate current injection"
      ]
    },
    {
      "cell_type": "markdown",
      "metadata": {},
      "source": [
        "## Run simulation\n\n\n"
      ]
    },
    {
      "cell_type": "code",
      "execution_count": null,
      "metadata": {
        "collapsed": false
      },
      "outputs": [],
      "source": [
        "xmax = 1e-4  # domain boundary\nrElec = 1e-6  # center source radius\n\nsigma = np.ones(3)\n\nbbox = np.append(-xmax * np.ones(3), xmax * np.ones(3))\nstudy = xc.Study(study_path, bbox)\n\nsetup = study.new_simulation()\nsetup.mesh.element_type = element_type\nsetup.meshtype = meshtype\n\ngeo = xc.geometry.Sphere(center=np.zeros(3), radius=rElec)\n\nif fixedSource:\n    setup.add_voltage_source(xc.signals.Signal(1), geo)\n    srcMag = 1.0\n    srcType = \"Voltage\"\nelse:\n    srcMag = 4 * np.pi * sigma[0] * rElec\n    setup.add_current_source(xc.signals.Signal(srcMag), geo)\n    srcType = \"Current\"\n\nif meshtype == \"uniform\":\n    setup.make_uniform_grid(nX)\n    print(\"uniform, %d per axis\" % nX)\nelse:\n    setup.make_adaptive_grid(\n        ref_pts=np.zeros((1, 3)),\n        max_depth=np.array(max_depth, ndmin=1),\n        min_l0_function=xc.general_metric,\n        # coefs=np.array(2**(-0.2*max_depth), ndmin=1))\n        coefs=np.array(0.2, ndmin=1),\n    )\n\nif boundaryType == \"analytical\":\n    boundary_function = None\nelse:\n\n    def boundary_function(coord):\n        r = np.linalg.norm(coord)\n        return rElec / (r * np.pi * 4)\n\n\nsetup.finalize_mesh()\n\nsetup.set_boundary_nodes(boundary_function, sigma=1)\n\nv = setup.solve()\nsetup.apply_transforms()\n\n\nsetup.getMemUsage(True)\nsetup.print_total_time()\n\nsetup.start_timing(\"Estimate error\")\n# srcMag,srcType,showPlots=showGraphs)\nerrEst, arErr, _, _, _ = setup.calculate_errors()\nprint(\"error: %g\" % errEst)\nsetup.log_time()\n\nbnd = setup.mesh.bbox[[0, 3, 2, 4]]"
      ]
    },
    {
      "cell_type": "code",
      "execution_count": null,
      "metadata": {
        "collapsed": false
      },
      "outputs": [],
      "source": [
        "ax = plt.figure().add_subplot()\nxc.visualizers.format_xy_axis(ax, bnd)\narr = xc.visualizers.resample_plane(ax, setup)\n\ncolormap, color_norm = xc.visualizers.get_cmap(arr.ravel(), forceBipolar=True)\nxc.visualizers.patchwork_image(ax, [arr], colormap, color_norm, extent=bnd)\n\n_, _, edge_points = setup.get_elements_in_plane()\nxc.visualizers.show_2d_edges(ax, edge_points)"
      ]
    },
    {
      "cell_type": "markdown",
      "metadata": {},
      "source": [
        "TOPOLOGY/connectivity\n\n"
      ]
    },
    {
      "cell_type": "code",
      "execution_count": null,
      "metadata": {
        "collapsed": false
      },
      "outputs": [],
      "source": [
        "ax = xc.visualizers.show_mesh(setup)\nax.set_xticks([])\nax.set_yticks([])\nax.set_zticks([])\nghost = (0.0, 0.0, 0.0, 0.0)\nax.xaxis.set_pane_color(ghost)\nax.yaxis.set_pane_color(ghost)\nax.zaxis.set_pane_color(ghost)\n\n\nxc.visualizers.show_3d_edges(ax, setup.mesh.node_coords, setup.edges, setup.conductances)\n\nbnodes = setup.mesh.get_boundary_nodes()\nxc.visualizers.show_3d_nodes(ax, setup.mesh.node_coords[bnodes], node_values=np.ones_like(bnodes), colors=\"r\")"
      ]
    },
    {
      "cell_type": "markdown",
      "metadata": {},
      "source": [
        "## SliceSet\n\n\n"
      ]
    },
    {
      "cell_type": "code",
      "execution_count": null,
      "metadata": {
        "collapsed": false
      },
      "outputs": [],
      "source": [
        "# sphinx_gallery_thumbnail_number = 4\nimg = xc.visualizers.SliceSet(plt.figure(), study)\nimg.add_simulation_data(setup, append=True)\n_ = img.get_artists(0)"
      ]
    },
    {
      "cell_type": "markdown",
      "metadata": {},
      "source": [
        "## ErrorGraph\n\n\n"
      ]
    },
    {
      "cell_type": "code",
      "execution_count": null,
      "metadata": {
        "collapsed": false
      },
      "outputs": [],
      "source": [
        "ptr = xc.visualizers.ErrorGraph(plt.figure(), study)\nptr.prefs[\"universalPts\"] = True\npdata = ptr.add_simulation_data(setup)\n_ = ptr.get_artists(0, pdata)"
      ]
    },
    {
      "cell_type": "markdown",
      "metadata": {},
      "source": [
        "## LogError\n\n\n"
      ]
    },
    {
      "cell_type": "code",
      "execution_count": null,
      "metadata": {
        "collapsed": false
      },
      "outputs": [],
      "source": [
        "P = xc.visualizers.LogError(None, study)\nP.add_simulation_data(setup, True)\n_ = P.get_artists(0)"
      ]
    }
  ],
  "metadata": {
    "kernelspec": {
      "display_name": "Python 3",
      "language": "python",
      "name": "python3"
    },
    "language_info": {
      "codemirror_mode": {
        "name": "ipython",
        "version": 3
      },
      "file_extension": ".py",
      "mimetype": "text/x-python",
      "name": "python",
      "nbconvert_exporter": "python",
      "pygments_lexer": "ipython3",
      "version": "3.9.18"
    }
  },
  "nbformat": 4,
  "nbformat_minor": 0
}