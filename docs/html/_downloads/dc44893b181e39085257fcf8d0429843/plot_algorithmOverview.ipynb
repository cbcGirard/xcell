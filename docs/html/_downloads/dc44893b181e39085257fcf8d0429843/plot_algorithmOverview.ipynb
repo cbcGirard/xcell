{
  "cells": [
    {
      "cell_type": "markdown",
      "metadata": {},
      "source": [
        "\n# Simulation overview\n\nA simplified view of the meshing process, electrical network generation, \nand solution\n"
      ]
    },
    {
      "cell_type": "code",
      "execution_count": null,
      "metadata": {
        "collapsed": false
      },
      "outputs": [],
      "source": [
        "import numpy as np\nimport xcell as xc\nimport matplotlib.pyplot as plt\nimport matplotlib as mpl\nfrom xcell import visualizers\nfrom Common_nongallery import makeSynthStudy\n\nlite = False\nasDual = False\nstudy_path = \"algoDemo\"\nfname = \"overview\"\nif asDual:\n    fname += \"-dual\"\n\nif lite:\n    fname += \"-lite\"\n    xc.colors.use_light_style()\n    mpl.rcParams.update(\n        {\n            \"figure.figsize\": [2.0, 2.0],\n            \"font.size\": 10.0,\n            \"lines.markersize\": 5.0,\n        }\n    )\nelse:\n    mpl.rcParams.update({\"figure.figsize\": [2.0, 2.0], \n                         \"font.size\": 9, \"figure.dpi\": 500})\n\nshowSrcCircuit = True\nlastGen = 4\nfullCircle = True\n\nxmax = 1\n\nrElec = xmax / 5\n\n\nk = 0.5\n\nif fullCircle:\n    bbox = np.append(-xmax * np.ones(3), xmax * np.ones(3))\nelse:\n    bbox = np.append(xmax * np.zeros(3), xmax * np.ones(3))\n\nstudy, setup = makeSynthStudy(study_path, rElec=rElec, xmax=xmax)\n\n\narts = []\nfig = plt.figure(constrained_layout=True)\n\n\ncm = visualizers.CurrentPlot(fig, study, fullarrow=True, \n                             showInset=False, showAll=asDual)\ncm.prefs[\"colorbar\"] = False\ncm.prefs[\"title\"] = False\ncm.prefs[\"logScale\"] = True\nax = cm.fig.axes[0]\n\nax.set_aspect(\"equal\")\n# hide axes\nax.set_xticks([])\nax.set_yticks([])\nplt.title(\"spacer\", color=xc.colors.NULL)\n\n\nif fullCircle:\n    tht = np.linspace(0, 2 * np.pi)\nelse:\n    tht = np.linspace(0, np.pi / 2)\narcX = rElec * np.cos(tht)\narcY = rElec * np.sin(tht)\n\nsrc = ax.fill(arcX, arcY, color=mpl.cm.plasma(1.0), alpha=0.5, label=\"Source\")\n\nnoteColor = xc.colors.ACCENT_DARK\n# sphinx_gallery_defer_figures"
      ]
    },
    {
      "cell_type": "markdown",
      "metadata": {},
      "source": [
        "## Subdivide mesh\n\nThe target element size is proportional to its distance from the source. \nElements larger than their target size are recursively split until all are \nsmaller than their respective target.\n\n"
      ]
    },
    {
      "cell_type": "code",
      "execution_count": null,
      "metadata": {
        "collapsed": false
      },
      "outputs": [],
      "source": [
        "for max_depth in range(1, lastGen + 1):\n    l0Param = 2 ** (-max_depth * 0.2)\n\n    setup.make_adaptive_grid(\n        ref_pts=np.zeros((1, 3)),\n        max_depth=np.array(max_depth, ndmin=1),\n        min_l0_function=xc.general_metric,\n        coefs=np.array(k, ndmin=1),\n    )\n\n    setup.finalize_mesh(regularize=False)\n    coords = setup.mesh.node_coords\n\n    coords, edges = setup.get_mesh_geometry()\n\n    edge_points = visualizers.get_planar_edge_points(coords, edges)\n\n    art = visualizers.show_2d_edges(ax, edge_points)\n    title = visualizers.animated_title(\n        fig,\n        # title = ax.set_title(\n        r\"Split if $\\ell_0$>%.2f r, depth %d\" % (k, max_depth),\n    )\n    arts.append([art, title])\n\n    if max_depth != lastGen:\n        # show dot at center of elements needing split\n\n        centers = []\n        cvals = []\n        els = setup.mesh.elements\n        for el in els:\n            l0 = el.l0\n            center = el.origin + el.span / 2\n\n            if l0 > (k * np.linalg.norm(center)):\n                centers.append(center)\n                cvals.append(l0)\n\n        cpts = np.array(centers, ndmin=2)\n\n        ctrArt = ax.scatter(cpts[:, 0], cpts[:, 1], c=noteColor, marker=\"o\")\n        arts.append([ctrArt, art, title])\n# sphinx_gallery_defer_figures"
      ]
    },
    {
      "cell_type": "markdown",
      "metadata": {},
      "source": [
        "## Electrical network\n\nEach element has discrete conducances between its vertices. All nodes inside \na source are combined into a single electrical node\n\n"
      ]
    },
    {
      "cell_type": "code",
      "execution_count": null,
      "metadata": {
        "collapsed": false
      },
      "outputs": [],
      "source": [
        "if showSrcCircuit:\n    # outside, inside source\n    nodeColors = np.array([[0, 0, 0, 0], [0.6, 0, 0, 1]], dtype=float)\n\n    # edges outside, crossing, and fully inside source\n    edge_colors = np.array([xc.colors.FAINT, [1, 0.5, 0, 1.0], [1, 0, 0, 1]])\n\n    if asDual:\n        nodeColors[0, -1] = 0.1\n    else:\n        edge_colors[0, -1] /= 2\n\n    finalMesh = art\n    if asDual:\n        finalMesh.set_alpha(0.25)\n        setup.mesh.element_type = \"Face\"\n    setup.finalize_mesh()\n\n    # hack to get plane elements only\n    els, pts, _ = setup.get_elements_in_plane()\n\n    m2 = xc.meshes.Mesh(bbox)\n    m2.elements = els\n\n    setup.mesh = m2\n    if asDual:\n        setup.mesh.element_type = \"Face\"\n    setup.finalize_mesh()\n\n    setup.set_boundary_nodes()\n    setup.solve()\n\n    inSrc = setup.node_role_table == 2\n\n    edgePtInSrc = np.sum(inSrc[setup.edges], axis=1)\n\n    mergeColors = edge_colors[edgePtInSrc]\n\n    sX, sY = np.hsplit(setup.mesh.node_coords[inSrc, :-1], 2)\n    nodeArt = plt.scatter(sX, sY, marker=\"*\", c=noteColor)\n\n    title = visualizers.animated_title(fig, \"Combine nodes inside source\")\n    artset = [nodeArt, title]\n\n    if asDual:\n        artset.append(finalMesh)\n    else:\n        mergePts = setup.mesh.node_coords[setup.edges, :-1]\n        edgeArt = visualizers.show_2d_edges(ax, mergePts, colors=mergeColors)\n        artset.append(edgeArt)\n\n    for ii in range(2):\n        arts.append(artset)\n\n    # replace with single source node\n    srcIdx = inSrc.nonzero()[0][0]\n    setup.edges[inSrc[setup.edges]] = srcIdx\n    source = setup.current_sources[0]\n    setup.mesh.node_coords[srcIdx] = source.geometry.center\n\n    nTouchingSrc = np.sum(inSrc[setup.edges], axis=1)\n\n    equivColors = mergeColors[nTouchingSrc]\n\n    eqPts = setup.mesh.node_coords[setup.edges, :-1]\n    reArt = visualizers.show_2d_edges(ax, eqPts, colors=equivColors)\n    ctrArt = ax.scatter(0, 0, c=noteColor, marker=\"*\")\n\n    title = visualizers.animated_title(fig, \"Equivalent circuit\")\n\n    eqArtists = [reArt, title, ctrArt]\n    if asDual:\n        eqArtists.append(finalMesh)\n\n    for ii in range(3):\n        arts.append(eqArtists)\n\n\n    # %%\n    # Solve for node voltages\n    # -------------------------\n    #\n    # The resulting electrical network can be solved by nodal analysis, giving \n    # potential at the mesh nodes and current along edges\n    #\n\n    cm.add_simulation_data(setup, append=True)\n    endArts = cm.get_artists(0)\n    endArts.append(visualizers.animated_title(fig, \"Current distribution\"))\n\n    if asDual:\n        endArts.append(finalMesh)\n\n    for ii in range(5):\n        arts.append(endArts)\n\n\nani = cm.animate_study(fname, artists=arts)"
      ]
    }
  ],
  "metadata": {
    "kernelspec": {
      "display_name": "Python 3",
      "language": "python",
      "name": "python3"
    },
    "language_info": {
      "codemirror_mode": {
        "name": "ipython",
        "version": 3
      },
      "file_extension": ".py",
      "mimetype": "text/x-python",
      "name": "python",
      "nbconvert_exporter": "python",
      "pygments_lexer": "ipython3",
      "version": "3.9.18"
    }
  },
  "nbformat": 4,
  "nbformat_minor": 0
}