{
  "cells": [
    {
      "cell_type": "markdown",
      "metadata": {},
      "source": [
        "\n# DBS Electrode\n\nProgrammatically generate micro-macro electrode array\n"
      ]
    },
    {
      "cell_type": "code",
      "execution_count": null,
      "metadata": {
        "collapsed": false
      },
      "outputs": [],
      "source": [
        "import xcell\nimport numpy as np\nfrom scipy.spatial.transform import Rotation\nimport pyvista as pv\nimport pickle\n\nfrom matplotlib.colors import to_rgba_array\n\ncomposite = pv.MultiBlock()\nregions = xcell.io.Regions()\n\n# bodies, misc, oriens, and hilus\nsigmas = 1/np.array([6.429,\n                     3.215,\n                     2.879,\n                     2.605])\n\n# latest from https://github.com/Head-Conductivity/Human-Head-Conductivity\nsigma_0 = 0.3841\n\n\nxdom = 5e-2\n\ndbody = 1.3e-3\ndmicro = 17e-6\n# dmicro = 5e-4\nwmacro = 2e-3\n\npitchMacro = 5e-3\n\nnmacro = 6  # 4-6\nnmicro = 24  # 10-24\n\nmicroRows = 5\nmicroCols = 3\n\norientation = np.array([1., 0., 0.])\n\ntipPt = 1e-3*np.array([-5., 2., 0])\nbodyL = 0.05\n\ntpulse = 1e-3  # per phase\nipulse = 150e-6\nvpulse = 1.\n\n\nhippo = pv.read('./Geometry/slice77600_ext10000.vtk')\nbrainXform = -np.array(hippo.center)\nhippo.translate(brainXform, inplace=True)\n\nfiles = ['bodies', 'misc', 'oriens', 'hilus']\n\nfor f, sig in zip(files, sigmas):\n    region = pv.read('Geometry/'+f+'.stl').translate(brainXform)\n    region.cell_data['sigma'] = sig\n    regions.addMesh(region, 'Conductors')\n    composite.append(region, name=f)\n\n# xdom = max(np.array(hippo.bounds[1::2])-np.array(hippo.bounds[::2]))\nxdom = pitchMacro*(nmacro+1)\n\n\nbbox = xdom * np.concatenate((-np.ones(3), np.ones(3)))\n\n# set smallest element to microelectrode radius or smaller\nmaxdepth = int(np.log2(xdom / dmicro)) + 2\n\nsim = xcell.Simulation('test', bbox=bbox)\n\n\nbody = xcell.geometry.Cylinder(\n    tipPt+bodyL*orientation/2, radius=dbody/2, length=bodyL, axis=orientation)\n\n# bugfix to force detection of points inside cylindrical body\nbodyMesh = xcell.geometry.toPV(body)\nregions.addMesh(bodyMesh, category='Insulators')\n\n# bodyMesh = pv.Cylinder(center=body.center,\n# direction=body.axis,\n# radius=body.radius,\n# height=body.length)\n\nmacroElectrodes = []\nmicroElectrodes = []\nelecMeshes = []\n\nrefPts = []\nrefSizes = []\n\n# Generate macroelectrodes (bands)\nfor ii in range(nmacro):\n    pt = tipPt+(ii+1)*pitchMacro*orientation\n\n    geo = xcell.geometry.Cylinder(pt, dbody/2, wmacro, orientation)\n\n    sim.addCurrentSource(xcell.signals.Signal(0),\n                         coords=pt,\n                         geometry=geo)\n\n    macroElectrodes.append(geo)\n\n    refPts.append(geo.center)\n\n    regions.addMesh(xcell.geometry.toPV(geo), category='Electrodes')\n\n\n# Generate microelectrodes\nfor ii in range(microRows):\n    rowpt = tipPt+(ii+.5)*pitchMacro*orientation\n\n    for jj in range(microCols):\n        rot = Rotation.from_rotvec(orientation*2*jj/microCols*np.pi)\n\n        microOrientation = rot.apply(0.5*dbody*np.array([0., 0., 1.]))\n\n        geo = xcell.geometry.Disk(\n            center=rowpt+microOrientation,\n            radius=dmicro/2, axis=microOrientation,\n            tol=0.5)\n\n        sim.addCurrentSource(xcell.signals.Signal(0), coords=geo.center,\n                             geometry=geo)\n\n        microElectrodes.append(geo)\n\n        refPts.append(geo.center)\n        regions.addMesh(xcell.geometry.toPV(geo), category='Electrodes')\n\np = xcell.visualizers.PVScene()\np.setup(regions, opacity=0.5)\np.show()"
      ]
    },
    {
      "cell_type": "code",
      "execution_count": null,
      "metadata": {
        "collapsed": false
      },
      "outputs": [],
      "source": [
        "sim.quickAdaptiveGrid(maxdepth)\n\nvmesh = xcell.io.toVTK(sim.mesh)\nvmesh.cell_data['sigma'] = sigma_0\n\nregions.assignSigma(sim.mesh, defaultSigma=sigma_0)\n\nsim.currentSources[nmacro+1].value.value = 150e-6\n\n\nsim.setBoundaryNodes()\nv = sim.iterativeSolve()\nvmesh.point_data['voltage'] = v\n\nvmesh.set_active_scalars('voltage')"
      ]
    },
    {
      "cell_type": "code",
      "execution_count": null,
      "metadata": {
        "collapsed": false
      },
      "outputs": [],
      "source": [
        "p = xcell.visualizers.PVScene()\np.setup(regions)  # , mesh=vmesh, simData='voltage')\n# p.camera.tight(padding=0.1)\np.add_mesh(vmesh.slice(normal='z'), show_edges=True,\n           cmap=xcell.colors.CM_BIPOLAR)\ncambox = np.array(hippo.bounds)\ncambox[4:] = 0.\n# p.reset_camera(bounds=cambox)\np.view_xy()\np.show()\n# sphinx_gallery_thumbnail_number = 3\n\n# Save outputs\nregions.save('Geometry/composite.vtm')"
      ]
    }
  ],
  "metadata": {
    "kernelspec": {
      "display_name": "Python 3",
      "language": "python",
      "name": "python3"
    },
    "language_info": {
      "codemirror_mode": {
        "name": "ipython",
        "version": 3
      },
      "file_extension": ".py",
      "mimetype": "text/x-python",
      "name": "python",
      "nbconvert_exporter": "python",
      "pygments_lexer": "ipython3",
      "version": "3.9.16"
    }
  },
  "nbformat": 4,
  "nbformat_minor": 0
}