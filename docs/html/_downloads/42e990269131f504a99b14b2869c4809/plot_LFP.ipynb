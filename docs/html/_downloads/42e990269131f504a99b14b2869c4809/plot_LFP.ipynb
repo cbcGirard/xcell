{
  "cells": [
    {
      "cell_type": "code",
      "execution_count": null,
      "metadata": {
        "collapsed": false
      },
      "outputs": [],
      "source": [
        "%matplotlib inline"
      ]
    },
    {
      "cell_type": "markdown",
      "metadata": {},
      "source": [
        "\n# LFP estimation with dynamic remeshing\n\nPlot LFP from toy neurons\n"
      ]
    },
    {
      "cell_type": "code",
      "execution_count": null,
      "metadata": {
        "collapsed": false
      },
      "outputs": [],
      "source": [
        "from neuron import h  # , gui\nfrom neuron.units import ms, mV\nimport numpy as np\nimport matplotlib.pyplot as plt\nimport matplotlib as mpl\nfrom matplotlib.animation import ArtistAnimation\nimport xcell\nfrom tqdm import trange\n\nimport Common\nimport time\nimport pickle\nimport os\n\nfrom xcell import nrnutil as nUtil\nfrom matplotlib.lines import Line2D\n\nresultFolder = '/tmp'\n\n\nh.load_file('stdrun.hoc')\nh.CVode().use_fast_imem(1)\n\nmpl.style.use('fast')\n\n\nnRing = 5\nnSegs = 5\n\ndmax = 8\ndmin = 4\n\n# vids = False\n# post = False\nnskip = 4\n\n# Overrides for e.g. debugging in Spyder\n#args.vids=True\n# args.synth=False\n# args.folder='Quals/polyCell'\n#args.folder='Quals/monoCell'\n#args.strat='depth'\n#args.nSegs = 101\n# args.folder='tst'\n#args.nskip=1\n#args.nRing=0"
      ]
    },
    {
      "cell_type": "code",
      "execution_count": null,
      "metadata": {
        "collapsed": false
      },
      "outputs": [],
      "source": [
        "ring = Common.Ring(N=nRing, stim_delay=0, dendSegs=nSegs, r=175)\ntstop = 40\ntPerFrame = 5\nbarRatio=[9,1]\n\nivecs, isSphere, coords, rads = nUtil.getNeuronGeometry()\n\n\nt = h.Vector().record(h._ref_t)\nh.finitialize(-65 * mV)\nh.continuerun(tstop)\n\ntv = np.array(t)*1e-3\nI = 1e-9*np.array(ivecs).transpose()\n\n\nI = I[::nskip]\ntv = tv[::nskip]\n\n\nanalyticVmax = I/(4*np.pi*np.array(rads, ndmin=2))\nvPeak = np.max(np.abs(analyticVmax))\n\nimax = np.max(np.abs(I[::nskip]))\n\n\ncoord = np.array(coords)\nxmax = 2*np.max(np.concatenate(\n    (np.max(coord, axis=0), np.min(coord, axis=0))\n))\n\n#round up\nxmax=xcell.util.oneDigit(xmax)\nif xmax <= 0 or np.isnan(xmax):\n    xmax = 1e-4\n\n\nlastNumEl = 0\nlastI = 0\n\nstudy, setup = Common.makeSynthStudy(resultFolder, xmax=xmax)\nsetup.currentSources = []\nstudyPath = study.studyPath\n\ndspan = dmax-dmin\n\n\ntdata=None\n\nimg = xcell.visualizers.SingleSlice(None, study,\n                                    tv, tdata=tdata)\n\nfor r, c, v in zip(rads, coords, I[0]):\n    setup.addCurrentSource(v, c, r)\n\ntmax = tv.shape[0]\nerrdicts = []\n\nfor ii in trange(0, tmax):\n\n    t0 = time.monotonic()\n    ivals = I[ii]\n    tval = tv[ii]\n    vScale = np.abs(analyticVmax[ii])/vPeak\n\n    setup.currentTime = tval\n\n    changed = False\n\n\n    for jj in range(len(setup.currentSources)):\n        ival = ivals[jj]\n        setup.currentSources[jj].value = ival\n\n    # Depth strategy\n    scale = dmin+dspan*vScale\n    dint = np.rint(scale)\n    maxdepth = np.floor(scale).astype(int)\n\n    density = 0.2  # +0.2*dfrac\n\n    metricCoef = 2**(-density*scale)\n\n\n    netScale = 2**(-maxdepth*density)\n\n    changed = setup.makeAdaptiveGrid(\n        coord, maxdepth, xcell.generalMetric, coefs=metricCoef)\n\n    if changed or ii == 0:\n        setup.meshnum += 1\n        setup.finalizeMesh()\n\n        numEl = len(setup.mesh.elements)\n\n        setup.setBoundaryNodes()\n\n        v = setup.iterativeSolve()\n        lastNumEl = numEl\n        setup.iteration += 1\n\n        study.saveData(setup)  # ,baseName=str(setup.iteration))\n        print('%d source nodes' % sum(setup.nodeRoleTable == 2))\n    else:\n        # TODO: why is reset needed?\n        setup.nodeRoleTable[setup.nodeRoleTable == 2] = 0\n\n        v = setup.iterativeSolve()\n\n    dt = time.monotonic()-t0\n\n    lastI = ival\n\n    study.newLogEntry(['Timestep', 'Meshnum'], [\n                      setup.currentTime, setup.meshnum])\n\n    setup.stepLogs = []\n\n    errdict = xcell.misc.getErrorEstimates(setup)\n    errdict['densities'] = density\n    errdict['depths'] = maxdepth\n    errdict['numels'] = lastNumEl\n    errdict['dt'] = dt\n    errdict['vMax'] = max(v)\n    errdict['vMin'] = min(v)\n    errdicts.append(errdict)\n\n\n    img.addSimulationData(setup, append=True)\n\nlists = xcell.misc.transposeDicts(errdicts)\n\n\nxcell.colors.useDarkStyle()\nnUtil.showCellGeo(img.axes[0])\n\nani=img.animateStudy('', fps=30)"
      ]
    }
  ],
  "metadata": {
    "kernelspec": {
      "display_name": "Python 3",
      "language": "python",
      "name": "python3"
    },
    "language_info": {
      "codemirror_mode": {
        "name": "ipython",
        "version": 3
      },
      "file_extension": ".py",
      "mimetype": "text/x-python",
      "name": "python",
      "nbconvert_exporter": "python",
      "pygments_lexer": "ipython3",
      "version": "3.9.12"
    }
  },
  "nbformat": 4,
  "nbformat_minor": 0
}