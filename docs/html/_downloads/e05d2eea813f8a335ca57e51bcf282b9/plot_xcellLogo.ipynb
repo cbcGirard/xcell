{
  "cells": [
    {
      "cell_type": "markdown",
      "metadata": {},
      "source": [
        "\n# Logo\nGenerates the xcell logo from point cloud\n\nOriginal text layout in Inkscape, text bounds resampled using Roughen path effect with all displacements=0, then exported with Path to Gcode extension.\n\nOriginal canvas bounds are ((0,32), (0,32))\n"
      ]
    },
    {
      "cell_type": "code",
      "execution_count": null,
      "metadata": {
        "collapsed": false
      },
      "outputs": [],
      "source": [
        "import xcell\nimport pandas\nimport numpy as np\nimport matplotlib.pyplot as plt\nimport re\nimport pickle\nimport time\n\ncsv = 'pts.csv'\nptsFile = 'logo.xpts'\n\nconvertGcode=False\nshowOriginalPoints=False\n\nbbox = np.array([0, 0, -32, 32, 32, 32])\n\nxcell.colors.useDarkStyle()\ncolor = 'base'\nlogoFPS = 6"
      ]
    },
    {
      "cell_type": "markdown",
      "metadata": {},
      "source": [
        "## Convert gcode to array of points\n\n\n"
      ]
    },
    {
      "cell_type": "code",
      "execution_count": null,
      "metadata": {
        "collapsed": false
      },
      "outputs": [],
      "source": [
        "if convertGcode:\n\n    f = open('xcelldense.ngc', 'r')\n    txt = f.read()\n    f.close()\n\n    regex = re.compile('X.*Y[\\d\\.]*')\n    txtpts = regex.findall(txt)\n    ctext = open(csv, 'w')\n    extract = ',0.0\\n'.join(txtpts)\n    ctext.write(extract.replace('Y', '').replace('X', '').replace(' ', ','))\n    ctext.close()\n\n\n    pts = pandas.read_csv(csv).to_numpy()\n    okPts = ~np.any(np.isnan(pts),axis=1)\n    pickle.dump(pts[okPts], open(ptsFile, 'wb'))"
      ]
    },
    {
      "cell_type": "markdown",
      "metadata": {},
      "source": [
        "## Generate meshes from points\n\n\n"
      ]
    },
    {
      "cell_type": "code",
      "execution_count": null,
      "metadata": {
        "collapsed": false
      },
      "outputs": [],
      "source": [
        "pts = pickle.load(open(ptsFile, 'rb'))\n\ntstart=time.monotonic()\nsetup = xcell.Simulation('', bbox)\n\n\nmeshPts = []\nartists = []\n\nnpts=pts.shape[0]\nfor d in range(0, 12):\n\n    depths=d*np.ones(npts,dtype=int)\n    co=np.ones(npts)\n\n    setup.makeAdaptiveGrid(refPts=pts,\n                           maxdepth=depths,\n                           coefs=co,\n                           minl0Function=xcell.generalMetric,\n                           coarsen=False)\n    setup.finalizeMesh()\n\n    _, _, elPts = setup.getElementsInPlane()\n    meshPts.append(elPts)\n\nt_tot=time.monotonic()-tstart\n\npickle.dump(meshPts, open('logoMesh.p', 'wb'))"
      ]
    },
    {
      "cell_type": "markdown",
      "metadata": {},
      "source": [
        "## Make logo image and animation\n\n\n"
      ]
    },
    {
      "cell_type": "code",
      "execution_count": null,
      "metadata": {
        "collapsed": false
      },
      "outputs": [],
      "source": [
        "dpi=100\n\nwith plt.rc_context({'figure.figsize':[19.2, 10.8],\n                     'figure.dpi':dpi,\n                     'toolbar':'None',\n                     }):\n\n    fig, ax = plt.subplots()\n    ax.set_xlim(1.,31.)\n    ax.set_ylim(1., 23.)\n    ax.axis('Off')\n    ax.margins(0)\n\n    col = xcell.colors.BASE\n    artists = [[xcell.visualizers.showEdges2d(\n        ax, p, edgeColors=col, alpha=0.2, linewidth=1.5)] for p in meshPts[:13]]\n\n    #pad ending frame\n    artists.append(artists[-1])\n    artists.append(artists[-1])\n\n    ani = xcell.visualizers.ArtistAnimation(fig, artists, interval=1000//logoFPS)\n\n    outFile = 'logo'\n\n    ani.save(outFile+'.mp4', fps=logoFPS, dpi=dpi)\n    fig.savefig(outFile+'.svg', dpi=dpi)\n\n    tlogo=len(artists)/logoFPS\n    print('%.2f second logo made in %.0f seconds'%(tlogo, t_tot))\n\n    if showOriginalPoints:\n        # Optionally visualize guide points\n        x,y,_=np.hsplit(pts,3)\n        plt.scatter(x,y)"
      ]
    }
  ],
  "metadata": {
    "kernelspec": {
      "display_name": "Python 3",
      "language": "python",
      "name": "python3"
    },
    "language_info": {
      "codemirror_mode": {
        "name": "ipython",
        "version": 3
      },
      "file_extension": ".py",
      "mimetype": "text/x-python",
      "name": "python",
      "nbconvert_exporter": "python",
      "pygments_lexer": "ipython3",
      "version": "3.9.16"
    }
  },
  "nbformat": 4,
  "nbformat_minor": 0
}