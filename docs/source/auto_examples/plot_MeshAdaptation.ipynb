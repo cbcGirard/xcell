{
  "cells": [
    {
      "cell_type": "code",
      "execution_count": null,
      "metadata": {
        "collapsed": false
      },
      "outputs": [],
      "source": [
        "%matplotlib inline"
      ]
    },
    {
      "cell_type": "markdown",
      "metadata": {},
      "source": [
        "\n# Adaptation parameters\n\nIllustrates how adaptation parameters affect the generated mesh\n"
      ]
    },
    {
      "cell_type": "code",
      "execution_count": null,
      "metadata": {
        "collapsed": false
      },
      "outputs": [],
      "source": [
        "import Common\nimport numpy as np\nimport xcell\nimport matplotlib.pyplot as plt\n\n# swept='density'\n# swept = 'depth'\ndmin = 2\ndmax = 6\n\nstudy, setup = Common.makeSynthStudy('adaptationDemos')\nplotprefs={'colorbar':False,\n           'barRatio':[7,1],\n           'labelAxes':False}\n\nsweepval = 1-abs(np.linspace(-1, 1, 20))\n\nfor swept in ['density','depth']:\n\n    if swept == 'density':\n        vrange = 0.5*sweepval\n    elif swept == 'depth':\n        # vrange=dmin+np.array((dmax-dmin)*sweepval,dtype=int)\n        vrange = np.concatenate(\n            (np.arange(dmin, dmax+1), np.arange(dmax-1, dmin-1, -1)))\n    tvec = np.linspace(0, 1, vrange.shape[0])\n\n    tdata = {\n        'x': tvec,\n        'y': vrange,\n        'ylabel': swept,\n        'unit': '',\n        'style': 'dot'\n    }\n\n    with plt.rc_context({\n            'figure.figsize':[4.5,3.75],\n            'font.size':10,\n            'figure.dpi':144\n            }):\n\n        img = xcell.visualizers.SingleSlice(None, study, timevec=tvec, tdata=tdata, prefs=plotprefs)\n        # aa=img.axes[0]\n        # aa.set_xticks([])\n        # aa.set_yticks([])\n        img.axes[2].set_xticks([])\n\n        # data={\n        #       'mesh':[],\n        #       'depth':[],\n        #       'density':[]}\n\n        lastdepth = -1\n        for val in vrange:\n\n            if swept == 'density':\n                density = val\n                maxdepth = dmax\n            elif swept == 'depth':\n                maxdepth = val\n                density = .2\n\n            metric = xcell.generalMetric\n\n            setup.makeAdaptiveGrid(np.zeros((1, 3)),  maxdepth=np.array(maxdepth,ndmin=1), minl0Function=metric,  coefs=np.ones(1)*2**(-maxdepth*density))\n            setup.finalizeMesh()\n\n            img.addSimulationData(setup, append=True)\n\n\n        ani = img.animateStudy(fname=swept, fps=5.)\n# sphinx_gallery_thumbnail_number = 2"
      ]
    }
  ],
  "metadata": {
    "kernelspec": {
      "display_name": "Python 3",
      "language": "python",
      "name": "python3"
    },
    "language_info": {
      "codemirror_mode": {
        "name": "ipython",
        "version": 3
      },
      "file_extension": ".py",
      "mimetype": "text/x-python",
      "name": "python",
      "nbconvert_exporter": "python",
      "pygments_lexer": "ipython3",
      "version": "3.9.12"
    }
  },
  "nbformat": 4,
  "nbformat_minor": 0
}