{
  "cells": [
    {
      "cell_type": "markdown",
      "metadata": {},
      "source": [
        "\n# Adaptation parameters\n\nIllustrates how adaptation parameters affect the generated mesh\n"
      ]
    },
    {
      "cell_type": "code",
      "execution_count": null,
      "metadata": {
        "collapsed": false
      },
      "outputs": [],
      "source": [
        "import Common_nongallery\nimport numpy as np\nimport xcell as xc\nimport matplotlib.pyplot as plt\n\ndmin = 2\ndmax = 6\n\n# keep animations in list so they show up in Sphix gallery\nanimations = []\n\nstudy, setup = Common_nongallery.makeSynthStudy(\"adaptationDemos\")\nplotprefs = {\"colorbar\": False, \"barRatio\": [7, 1], \"labelAxes\": False}\nmpl_context = {\"figure.figsize\": [4.5, 3.75], \"font.size\": 10, \n                         \"figure.dpi\": 144}\n\n\nsweepval = 1 - abs(np.linspace(-1, 1, 20))\n\nfor swept in [\"density\", \"depth\"]:\n    if swept == \"density\":\n        vrange = 0.5 * sweepval\n    elif swept == \"depth\":\n        # vrange=dmin+np.array((dmax-dmin)*sweepval,dtype=int)\n        vrange = np.concatenate((np.arange(dmin, dmax + 1), \n                                 np.arange(dmax - 1, dmin - 1, -1)))\n    tvec = np.linspace(0, 1, vrange.shape[0])\n\n    tdata = {\"x\": tvec, \"y\": vrange, \"ylabel\": swept, \n             \"unit\": \"\", \"style\": \"dot\"}\n\n    with plt.rc_context(mpl_context):\n        img = xc.visualizers.SingleSlice(None, study, timevec=tvec, \n                                         tdata=tdata, prefs=plotprefs)\n        img.axes[2].set_xticks([])\n\n        lastdepth = -1\n        for val in vrange:\n            if swept == \"density\":\n                density = val\n                max_depth = dmax\n            elif swept == \"depth\":\n                max_depth = val\n                density = 0.2\n\n            metric = xc.general_metric\n\n            setup.make_adaptive_grid(\n                np.zeros((1, 3)),\n                max_depth=np.array(max_depth, ndmin=1),\n                min_l0_function=metric,\n                coefs=np.ones(1) * 2 ** (-max_depth * density),\n            )\n            setup.finalize_mesh()\n\n            img.add_simulation_data(setup, append=True)\n\n        animations.append(img.animate_study(fname=swept, fps=5.0))\n\n\ndenstiy_ani, depth_ani = animations\n# sphinx_gallery_thumbnail_number = 2"
      ]
    }
  ],
  "metadata": {
    "kernelspec": {
      "display_name": "Python 3",
      "language": "python",
      "name": "python3"
    },
    "language_info": {
      "codemirror_mode": {
        "name": "ipython",
        "version": 3
      },
      "file_extension": ".py",
      "mimetype": "text/x-python",
      "name": "python",
      "nbconvert_exporter": "python",
      "pygments_lexer": "ipython3",
      "version": "3.9.18"
    }
  },
  "nbformat": 4,
  "nbformat_minor": 0
}