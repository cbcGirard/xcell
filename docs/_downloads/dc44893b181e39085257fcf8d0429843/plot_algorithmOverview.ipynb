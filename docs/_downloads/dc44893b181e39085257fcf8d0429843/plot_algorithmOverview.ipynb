{
  "cells": [
    {
      "cell_type": "code",
      "execution_count": null,
      "metadata": {
        "collapsed": false
      },
      "outputs": [],
      "source": [
        "%matplotlib inline"
      ]
    },
    {
      "cell_type": "markdown",
      "metadata": {},
      "source": [
        "\n# Simulation overview\n\nA simplified view of the meshing process, electrical network generation, and solution\n"
      ]
    },
    {
      "cell_type": "code",
      "execution_count": null,
      "metadata": {
        "collapsed": false
      },
      "outputs": [],
      "source": [
        "import numpy as np\nimport xcell\nimport matplotlib.pyplot as plt\nimport matplotlib as mpl\nimport os\nfrom xcell import util\nfrom xcell import visualizers\nimport Common\n\nlite = False\nasDual = False\nstudyPath = '/home/benoit/smb4k/ResearchData/Results/Quals/algoDemo/'\nfname = 'overview'\nif asDual:\n    fname += '-dual'\n\nif lite:\n    fname += '-lite'\n    xcell.colors.useLightStyle()\n    mpl.rcParams.update({'figure.figsize':[2.0, 2.0],\n                             'font.size':10.,\n                             'lines.markersize':5.,\n                             })\nelse:\n    mpl.rcParams.update({'figure.figsize':[2.,2.],\n                          'font.size':9,\n                          'figure.dpi':500\n                          })\n\nshowSrcCircuit = True\nlastGen = 4\nfullCircle = True\n\nxmax = 1\n\nrElec = xmax/5\n\n\nk = 0.5\n\nif fullCircle:\n    bbox = np.append(-xmax*np.ones(3), xmax*np.ones(3))\nelse:\n    bbox = np.append(xmax*np.zeros(3), xmax*np.ones(3))\n\nstudy, setup = Common.makeSynthStudy(studyPath, rElec=rElec, xmax=xmax)\n\n\narts = []\nfig = plt.figure(constrained_layout=True)\n\n\ncm = visualizers.CurrentPlot(\n    fig, study, fullarrow=True, showInset=False, showAll=asDual)\ncm.prefs['colorbar'] = False\ncm.prefs['title'] = False\ncm.prefs['logScale'] = True\nax = cm.fig.axes[0]\n\nax.set_aspect('equal')\n#hide axes\nax.set_xticks([])\nax.set_yticks([])\nplt.title(\"spacer\",color=xcell.colors.NULL)\n\n\n\nif fullCircle:\n    tht = np.linspace(0, 2*np.pi)\nelse:\n    tht = np.linspace(0, np.pi/2)\narcX = rElec*np.cos(tht)\narcY = rElec*np.sin(tht)\n\nsrc = ax.fill(arcX, arcY, color=mpl.cm.plasma(1.0), alpha=0.5, label='Source')\n# ax.legend(handles=src)\n\nnoteColor = xcell.colors.ACCENT_DARK\n\nfor maxdepth in range(1, lastGen+1):\n    l0Param = 2**(-maxdepth*0.2)\n\n\n    setup.makeAdaptiveGrid(refPts=np.zeros((1,3)),\n                           maxdepth=np.array(maxdepth, ndmin=1),\n                           minl0Function=xcell.generalMetric,\n                           # coefs=np.array(2**(-0.2*maxdepth), ndmin=1))\n                           coefs=np.array(k, ndmin=1))\n\n    setup.finalizeMesh(regularize=False)\n    # edges,_,_=setup.mesh.getConductances()\n    coords = setup.mesh.nodeCoords\n\n    # coords=setup.getCoords()\n    # edges=setup.getEdges()\n    coords, edges = setup.getMeshGeometry()\n    # edges=[setup.mesh.inverseIdxMap[n] for n in ]\n\n    edgePoints = visualizers.getPlanarEdgePoints(coords, edges)\n\n    # ,edgeColors=visualizers.FAINT,alpha=1.)\n    art = visualizers.showEdges2d(ax, edgePoints)\n    title = visualizers.animatedTitle(fig,\n    # title = ax.set_title(\n        r'Split if $\\ell_0$>%.2f r, depth %d' % (k, maxdepth))\n    arts.append([art, title])\n\n    if maxdepth != lastGen:\n        # show dot at center of elements needing split\n\n        centers = []\n        cvals = []\n        els = setup.mesh.elements\n        for el in els:\n            l0 = el.l0\n            center = el.origin+el.span/2\n\n            if l0 > (k*np.linalg.norm(center)):\n                centers.append(center)\n                cvals.append(l0)\n\n        cpts = np.array(centers, ndmin=2)\n\n        ctrArt = ax.scatter(cpts[:, 0], cpts[:, 1],\n                            c=noteColor, marker='o')\n        arts.append([ctrArt, art, title])"
      ]
    },
    {
      "cell_type": "code",
      "execution_count": null,
      "metadata": {
        "collapsed": false
      },
      "outputs": [],
      "source": [
        "if showSrcCircuit:\n    # outside, inside source\n    nodeColors = np.array([\n        [0, 0, 0, 0],\n        [0.6, 0, 0, 1]], dtype=float)\n\n    # edges outside, crossing, and fully inside source\n    edgeColors = np.array([\n        xcell.colors.FAINT,\n        [1, 0.5, 0, 1.],\n        [1, 0, 0, 1]])\n\n    if asDual:\n        nodeColors[0, -1] = 0.1\n        # edgeColors[0,-1]=0.05\n    else:\n        edgeColors[0, -1] /= 2\n\n    finalMesh = art\n    if asDual:\n        finalMesh.set_alpha(0.25)\n        setup.mesh.elementType = 'Face'\n    setup.finalizeMesh()\n\n    # hack to get plane elements only\n    els, pts, _ = setup.getElementsInPlane()\n\n    m2 = xcell.meshes.Mesh(bbox)\n    m2.elements = els\n\n    setup.mesh = m2\n    if asDual:\n        # visualizers.showEdges2d(ax, edgePoints,alpha=0.5)\n        setup.mesh.elementType = 'Face'\n    setup.finalizeMesh()\n\n    setup.setBoundaryNodes()\n    setup.iterativeSolve()\n\n    inSrc = setup.nodeRoleTable == 2\n\n    # oldEdges=setup.edges\n    edgePtInSrc = np.sum(inSrc[setup.edges], axis=1)\n    # srcEdges=oldEdges[edgePtInSrc==2]\n\n    mergeColors = edgeColors[edgePtInSrc]\n\n    # mergePts=visualizers.getPlanarEdgePoints(setup.mesh.nodeCoords, setup.edges)\n\n    sX, sY = np.hsplit(setup.mesh.nodeCoords[inSrc, :-1], 2)\n    nodeArt = plt.scatter(sX, sY,marker='*', c=noteColor)\n\n    title = visualizers.animatedTitle(fig,\n    # title = ax.set_title(\n                                      'Combine nodes inside source')\n    artset = [nodeArt, title]  # ,finalMesh]\n\n    if asDual:\n        artset.append(finalMesh)\n    else:\n        mergePts = setup.mesh.nodeCoords[setup.edges, :-1]\n        edgeArt = visualizers.showEdges2d(ax, mergePts, colors=mergeColors)\n        artset.append(edgeArt)\n\n    for ii in range(2):\n        arts.append(artset)\n\n    # replace with single source node\n    srcIdx = inSrc.nonzero()[0][0]\n    setup.edges[inSrc[setup.edges]] = srcIdx\n    setup.mesh.nodeCoords[srcIdx] = setup.currentSources[0].coords\n\n    nTouchingSrc = np.sum(inSrc[setup.edges], axis=1)\n\n    equivColors = mergeColors[nTouchingSrc]\n\n    # eqPts=visualizers.getPlanarEdgePoints(setup.mesh.nodeCoords, setup.edges)\n    eqPts = setup.mesh.nodeCoords[setup.edges, :-1]\n    reArt = visualizers.showEdges2d(ax, eqPts, colors=equivColors)\n    ctrArt = ax.scatter(0, 0, c=noteColor, marker='*')\n\n    # viewer.topoType='electrical'\n    # viewer.setPlane(showAll=asDual)\n    # reArt=viewer.showEdges(colors=equColor)\n    title = visualizers.animatedTitle(fig,\n    # title=ax.set_title(\n                                      'Equivalent circuit')\n\n    eqArtists = [reArt, title, ctrArt]\n    if asDual:\n        eqArtists.append(finalMesh)\n\n    for ii in range(3):\n        arts.append(eqArtists)\n\n    cm.addSimulationData(setup, append=True)\n    endArts = cm.getArtists(0)\n    endArts.append(visualizers.animatedTitle(fig,\n    # endArts.append(ax.set_title(\n    'Current distribution'))\n\n    if asDual:\n        endArts.append(finalMesh)\n\n    for ii in range(5):\n        arts.append(endArts)\n\n\nani = cm.animateStudy(fname, artists=arts)"
      ]
    }
  ],
  "metadata": {
    "kernelspec": {
      "display_name": "Python 3",
      "language": "python",
      "name": "python3"
    },
    "language_info": {
      "codemirror_mode": {
        "name": "ipython",
        "version": 3
      },
      "file_extension": ".py",
      "mimetype": "text/x-python",
      "name": "python",
      "nbconvert_exporter": "python",
      "pygments_lexer": "ipython3",
      "version": "3.9.12"
    }
  },
  "nbformat": 4,
  "nbformat_minor": 0
}