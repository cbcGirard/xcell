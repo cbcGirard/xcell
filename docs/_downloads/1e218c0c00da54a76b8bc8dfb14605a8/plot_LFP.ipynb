{
  "cells": [
    {
      "cell_type": "markdown",
      "metadata": {},
      "source": [
        "\n# LFP estimation with dynamic remeshing\n\nPlot LFP from toy neurons\n"
      ]
    },
    {
      "cell_type": "code",
      "execution_count": null,
      "metadata": {
        "collapsed": false
      },
      "outputs": [],
      "source": [
        "import xcell as xc\nfrom neuron import h  # , gui\nfrom neuron.units import ms, mV\nimport numpy as np\nimport matplotlib.pyplot as plt\nimport matplotlib as mpl\nfrom tqdm import trange\n\n# from ..Common_nongallery import Ring, makeSynthStudy\n\nimport Common_nongallery\nimport time\n\nfrom xcell import nrnutil as nUtil\n\nresultFolder = 'LFP'\n\n\nh.load_file('stdrun.hoc')\nh.CVode().use_fast_imem(1)\n\nmpl.style.use('fast')\n\nnRing = 5\nnSegs = 5\n\ndmax = 8\ndmin = 3\n\nnskip = 4"
      ]
    },
    {
      "cell_type": "code",
      "execution_count": null,
      "metadata": {
        "collapsed": false
      },
      "outputs": [],
      "source": [
        "ring = Common_nongallery.Ring(N=nRing, stim_delay=0, dendSegs=nSegs, r=175)\ntstop = 40\ntPerFrame = 5\nbarRatio = [9, 1]\n\ncoords, rads, is_sphere = nUtil.get_neuron_geometry()\nivecs = nUtil.get_membrane_currents()\n\n\nt = h.Vector().record(h._ref_t)\nh.finitialize(-65 * mV)\nh.continuerun(tstop)\n\ntv = np.array(t)*1e-3\nI = 1e-9*np.array(ivecs).transpose()\n\n\nI = I[::nskip]\ntv = tv[::nskip]\n\n\nanalyticVmax = I/(4*np.pi*np.array(rads, ndmin=2))\nvPeak = np.max(np.abs(analyticVmax))\n\nimax = np.max(np.abs(I[::nskip]))\n\n\ncoord = np.array(coords)\nxmax = 2*np.max(np.concatenate(\n    (np.max(coord, axis=0), np.min(coord, axis=0))\n))\n\n# round up\nxmax = xc.util.round_to_digit(xmax)\nif xmax <= 0 or np.isnan(xmax):\n    xmax = 1e-4\n\n\nlastNumEl = 0\nlastI = 0\n\nstudy, setup = Common_nongallery.makeSynthStudy(resultFolder, xmax=xmax)\nsetup.current_sources = []\nstudy_path = study.study_path\n\ndspan = dmax-dmin\n\n\ntdata = None\n\nimg = xc.visualizers.SingleSlice(None, study,\n                                    tv, tdata=tdata)\n\nfor r, c, i in zip(rads, coord, I.transpose()):\n    geo = xc.geometry.Sphere(center=c, radius = r)\n    signal=xc.signals.PiecewiseSignal(tv, i )\n    setup.add_current_source(signal, geometry = geo)\n\ntmax = tv.shape[0]\nerrdicts = []\n\nstepper = trange(0,tmax,postfix=\"\")\n\nfor ii in stepper:\n\n    t0 = time.monotonic()\n    ivals = I[ii]\n    tval = tv[ii]\n    vScale = np.abs(analyticVmax[ii])/vPeak\n\n    setup.current_time = tval\n\n    changed = False\n\n    # for jj in range(len(setup.current_sources)):\n    #     ival = ivals[jj]\n    #     setup.current_sources[jj].value = ival\n\n    # Depth strategy\n    scale = dmin+dspan*vScale\n    dint = np.rint(scale)\n    max_depth = np.floor(scale).astype(int)\n\n    density = 0.2\n\n    metricCoef = 2**(-density*scale)\n\n    netScale = 2**(-max_depth*density)\n\n    changed = setup.make_adaptive_grid(\n        coord, max_depth, xc.general_metric, coefs=metricCoef)\n\n    if changed or ii == 0:\n        setup.meshnum += 1\n        setup.finalize_mesh()\n\n        n_elements = len(setup.mesh.elements)\n\n        setup.set_boundary_nodes()\n\n        v = setup.solve()\n        lastNumEl = n_elements\n        setup.iteration += 1\n\n        study.save_simulation(setup)\n        # stepper.set_postfix_str('%d source nodes' % sum(setup.node_role_table == 2))\n        # stepper.set_postfix_str('%d elements'%n_elements)\n\n        # stepper.set_postfix_str('(%.2g, %.2g)'%(v.min(), v.max()))\n    else:\n    #     # TODO: why is reset needed?\n    #     setup.node_role_table[setup.node_role_table == 2] = 0\n        v = setup.solve()\n\n    dt = time.monotonic()-t0\n\n    study.log_current_simulation(['Timestep', 'Meshnum'], [\n                      setup.current_time, setup.meshnum])\n\n    setup.step_logs = []\n\n\n    img.add_simulation_data(setup, append=True)\n\nnUtil.show_cell_geo(img.axes[0])\n\nani = img.animate_study('', fps=30)"
      ]
    }
  ],
  "metadata": {
    "kernelspec": {
      "display_name": "Python 3",
      "language": "python",
      "name": "python3"
    },
    "language_info": {
      "codemirror_mode": {
        "name": "ipython",
        "version": 3
      },
      "file_extension": ".py",
      "mimetype": "text/x-python",
      "name": "python",
      "nbconvert_exporter": "python",
      "pygments_lexer": "ipython3",
      "version": "3.9.18"
    }
  },
  "nbformat": 4,
  "nbformat_minor": 0
}