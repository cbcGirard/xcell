{
  "cells": [
    {
      "cell_type": "markdown",
      "metadata": {},
      "source": [
        "\n# Singularity\n\nGet a detailed sweep of the behavior as element l0 approaches the source's radius\n"
      ]
    },
    {
      "cell_type": "code",
      "execution_count": null,
      "metadata": {
        "collapsed": false
      },
      "outputs": [],
      "source": [
        "import xcell as xc\nimport numpy as np\nimport Common_nongallery\nimport matplotlib.pyplot as plt\nimport pickle\nimport os\nimport matplotlib as mpl\n\nfname = \"Singularity_sweep\"\n# fname=\"Singularity\"\nanimate = False\n\nrElec = 1e-6\nx0max = rElec * 200\nstudy0, _ = Common_nongallery.makeSynthStudy(fname, rElec=rElec, xmax=x0max)\n\nelRs = 1e-6 * np.array([1, 5])\nx0s = np.array([50, 500])\nks = [0.2, 0.4]\n\n# elRs=1e-6*np.array([1])\n# x0s=np.array([200])\n# ks=[0.2]\n# with mpl.rc_context({'lines.markersize': 2,\n#                      'lines.marker': 'o',\n#                      'lines.linewidth': 1,\n#                      'font.size': 10,\n#                     'figure.figsize': [3.25, 5]}):\nwith mpl.rc_context(\n    {\n        \"lines.markersize\": 2.5,\n        \"lines.marker\": \"o\",\n        \"lines.linewidth\": 1.5,\n        \"font.size\": 10,\n        \"figure.figsize\": [6.5, 5.5],\n    }\n):\n    f2, axes = plt.subplots(3, sharex=True, gridspec_kw={\"height_ratios\": [4, 4, 2]})\n    [ax.grid(True) for ax in axes]\n    ax = axes[0]\n    ax2 = axes[1]\n    a3 = axes[2]\n\n    ax.set_xscale(\"log\")\n    ax.set_yscale(\"log\")\n    ax.xaxis.set_inverted(True)\n    ax2.set_ylabel(\"Error at source [V]\")\n    a3.set_ylabel(\"Points in source\")\n    # a3.set_xlabel('Closest node to origin [m]')\n\n    a3.set_xlabel(r\"Ratio of $\\ell_0$ to source radius\")\n    a3.set_yscale(\"log\")\n\n    ax.set_ylabel(\"Total error\")\n\n    for xx in x0s:\n        for rElec in elRs:\n            for k in ks:\n                x0max = xx * rElec\n                condStr = \"r%dx%dk%d\" % (int(rElec * 1e6), xx, int(10 * k))\n                fbase = study0.study_path + \"/\" + condStr\n\n                if animate:\n                    plotter = xc.visualizers.ErrorGraph(plt.figure(), study0)\n                    plotter.axes[0].xaxis.set_inverted(True)\n\n                def boundary_function(coord):\n                    r = np.linalg.norm(coord)\n                    val = rElec / (r * np.pi * 4)\n                    return val\n\n                etots = []\n                esrc = []\n                nInSrc = []\n                rclosest = []\n                rrel = []\n\n                logmin = int(np.floor(np.log10(rElec / 2))) - 1\n                logmax = logmin + 2\n\n                for min_l0 in np.logspace(logmax, logmin):\n                    max_depth = int(np.floor(np.log2(x0max / min_l0)))\n                    xmax = min_l0 * 2**max_depth\n                    study, setup = Common_nongallery.makeSynthStudy(fname, xmax=xmax, rElec=rElec)\n\n                    setup.quick_adaptive_grid(max_depth=max_depth, coefficent=k)\n                    setup.set_boundary_nodes(boundary_function)\n\n                    v = setup.solve()\n\n                    setup.getMemUsage(True)\n                    setup.print_total_time()\n\n                    if animate:\n                        plotter.add_simulation_data(setup)\n                    emetric, evec, _, sortr, _ = setup.calculate_errors()\n                    etots.append(emetric)\n                    esrc.append(evec[sortr][0])\n                    nInSrc.append(sum(setup.node_role_table == 2))\n\n                    r = np.linalg.norm(setup.mesh.node_coords, axis=1)\n\n                    rclose = min(r[r != 0])\n\n                    rclosest.append(rclose)\n                    rrel.append(rclose / rElec)\n\n                if animate:\n                    ani = plotter.animate_study(fbase, fps=10)\n\n                pdata = {\n                    \"condStr\": condStr,\n                    \"rclosest\": rclosest,\n                    \"rrel\": rrel,\n                    \"etots\": etots,\n                    \"esrc\": esrc,\n                    \"nInSrc\": nInSrc,\n                }\n\n                pickle.dump(pdata, open(fbase + \".pdata\", \"wb\"))\n\n                # totcol='tab:orange'\n                # pkcol='tab:red'\n                totcol = \"k\"\n                pkcol = \"k\"\n\n                rplot = np.array(rrel)\n\n                sortr = np.argsort(rplot)\n                ax.plot(rplot[sortr], np.array(etots)[sortr], label=condStr)\n\n                ax2.plot(rplot[sortr], np.array(esrc)[sortr])\n\n                a3.plot(rplot[sortr], np.array(nInSrc)[sortr])\n\n\nxc.util.loground(ax, which=\"y\")\nf2.align_labels()\n\nfor a in axes:\n    y0, y1 = a.get_ylim()\n    a.vlines(np.pi, y0, y1, linestyle=\"dashed\", color=xc.colors.BASE)\n    a.text(np.pi, y0, r\"$\\uparrow \\ell_0 = \\pi r_0$\")"
      ]
    }
  ],
  "metadata": {
    "kernelspec": {
      "display_name": "Python 3",
      "language": "python",
      "name": "python3"
    },
    "language_info": {
      "codemirror_mode": {
        "name": "ipython",
        "version": 3
      },
      "file_extension": ".py",
      "mimetype": "text/x-python",
      "name": "python",
      "nbconvert_exporter": "python",
      "pygments_lexer": "ipython3",
      "version": "3.9.18"
    }
  },
  "nbformat": 4,
  "nbformat_minor": 0
}