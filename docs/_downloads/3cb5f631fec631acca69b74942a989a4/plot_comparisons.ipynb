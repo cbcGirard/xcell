{
  "cells": [
    {
      "cell_type": "code",
      "execution_count": null,
      "metadata": {
        "collapsed": false
      },
      "outputs": [],
      "source": [
        "%matplotlib inline"
      ]
    },
    {
      "cell_type": "markdown",
      "metadata": {},
      "source": [
        "\n# Depth sweep\n\nCompare performance as mesh resolution increases. Generates ch3-4 data.\n"
      ]
    },
    {
      "cell_type": "code",
      "execution_count": null,
      "metadata": {
        "collapsed": false
      },
      "outputs": [],
      "source": [
        "import xcell\nimport Common\nimport matplotlib.pyplot as plt\nimport argparse\nimport numpy as np\n\ncli = argparse.ArgumentParser()\ncli.add_argument('--comparison', choices=['bounds', 'mesh',\n                 'formula', 'bigPOC', 'fixedDisc'], default='fixedDisc')\ncli.add_argument('-p', '--plot-only',\n                 help='skip simulation and use existing data', action='store_true')\n# cli.add_argument('-a','--animate',help='skip simulation and use existing data', action = 'store_true')\n# cli.add_argument('-p','--plot-only',help='skip simulation and use existing data', action = 'store_true')\n\nargs = cli.parse_args()\n\n\ngenerate = True\n\n# plot performance info\nstaticPlots = True\n\ndepths = np.arange(3, 12)\n\nxtraParams = None\nxmax = 1e-4\nif args.comparison == 'mesh' or args.comparison == 'bigPOC':\n    foldername = 'Quals/PoC'\n    tstVals = [\"adaptive\", \"uniform\"]\n    # tstVals=['adaptive','equal elements',r'equal $l_0$']\n    tstCat = 'Mesh type'\nif args.comparison == 'formula' or args.comparison == 'fixedDisc':\n    foldername = 'Quals/formulations'\n    tstVals = ['Admittance', 'FEM', 'Face']\n    tstCat = 'Element type'\nif args.comparison == 'bounds':\n    foldername = 'Quals/boundaries'\n    tstVals = ['Analytic', 'Ground', 'Rubik0']\n    tstCat = 'Boundary'\nif args.comparison == 'testing':\n    foldername = 'Quals/miniset'\n    tstVals = ['adaptive', 'uniform']\n    tstCat = 'Mesh type'\n    generate = False\n    staticPlots = False\n    depths = np.arange(3, 8)\n\nif args.comparison == 'bigPOC':\n    foldername = 'Quals/bigPOC'\n    xmax = 1e-2\n\nif args.comparison == 'fixedDisc':\n    foldername = 'Quals/fixedDisc'\n    xtraParams = {'BoundaryFunction': 'Analytic'}\n\n\n# if args.comparison=='voltage':\n    # tstVals=[False, True]\n    # tstCat='Vsrc?'\n\n\n# generate animation(s)\nplotters = [\n    xcell.visualizers.ErrorGraph,\n    # xcell.visualizers.ErrorGraph,\n    # xcell.visualizers.SliceSet,\n    # xcell.visualizers.LogError,\n    # xcell.visualizers.CurrentPlot,\n]\n\nplotPrefs = [\n    None,\n    # {'onlyDoF':True},\n    # None,\n    # None,\n]\n\n\nstudy, _ = Common.makeSynthStudy(foldername, xmax=xmax)"
      ]
    },
    {
      "cell_type": "code",
      "execution_count": null,
      "metadata": {
        "collapsed": false
      },
      "outputs": [],
      "source": [
        "if generate and not args.plot_only:\n    Common.pairedDepthSweep(study,\n                            depthRange=depths,\n                            testCat=tstCat,\n                            testVals=tstVals,\n                            overrides=xtraParams)"
      ]
    },
    {
      "cell_type": "code",
      "execution_count": null,
      "metadata": {
        "collapsed": false
      },
      "outputs": [],
      "source": [
        "costcat = 'Error'\n# costcat='FVU'\n# xcat='l0min'\n\nxvalues = ['Number of elements', 'l0min', 'Total time [Wall]']\nxtags = ['numel', 'l0', 'totTime']\nif staticPlots:\n    for xcat, xtag in zip(xvalues, xtags):\n\n        xcell.visualizers.groupedScatter(study.studyPath+'/log.csv',\n                                         xcat=xcat,\n                                         ycat=costcat,\n                                         groupcat=tstCat)\n        fname = tstCat+\"_\"+costcat+'-vs-'+xtag\n        fname.replace(' ', '_')\n        nufig = plt.gcf()\n        study.savePlot(nufig, fname)\n        for fv in tstVals:\n\n            fstack, fratio = xcell.visualizers.plotStudyPerformance(study,\n                                                                    onlyCat=tstCat,\n                                                                    onlyVal=fv)\n            fstem = '_'+tstCat+str(fv)\n\n            study.savePlot(fstack, 'Performance'+fstem)\n\n            study.savePlot(fratio, 'Ratio'+fstem)"
      ]
    },
    {
      "cell_type": "code",
      "execution_count": null,
      "metadata": {
        "collapsed": false
      },
      "outputs": [],
      "source": [
        "for ii, p in enumerate(plotters):\n\n    plots = []\n    names = []\n    ranges = None\n    for fv in tstVals:\n        fname = p.__name__+'_'+str(fv)\n        fname.replace(' ', '_')\n        plotr = p(plt.figure(), study, prefs=plotPrefs[ii])\n        if 'universalPts' in plotr.prefs:\n            plotr.prefs['universalPts'] = True\n        if 'onlyDoF' in plotr.prefs:\n            if plotr.prefs['onlyDoF']:\n                fname += '-detail'\n\n        plotr.getStudyData(filterCategories=[tstCat],\n                           filterVals=[fv])\n\n        plots.append(plotr)\n        names.append(fname)\n\n        if ranges is not None:\n            plotr.unifyScales(ranges)\n        ranges = plotr.dataScales\n\n    for plot, name in zip(plots, names):\n        plot.dataScales = ranges\n\n        plot.animateStudy(fname=name, fps=1.0)"
      ]
    }
  ],
  "metadata": {
    "kernelspec": {
      "display_name": "Python 3",
      "language": "python",
      "name": "python3"
    },
    "language_info": {
      "codemirror_mode": {
        "name": "ipython",
        "version": 3
      },
      "file_extension": ".py",
      "mimetype": "text/x-python",
      "name": "python",
      "nbconvert_exporter": "python",
      "pygments_lexer": "ipython3",
      "version": "3.9.15"
    }
  },
  "nbformat": 4,
  "nbformat_minor": 0
}