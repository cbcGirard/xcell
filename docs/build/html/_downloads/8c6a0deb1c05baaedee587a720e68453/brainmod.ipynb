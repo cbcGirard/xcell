{
  "cells": [
    {
      "cell_type": "markdown",
      "metadata": {},
      "source": [
        "\nCreated on Thu Apr 20 17:27:58 2023\n\n@author: benoit\n"
      ]
    },
    {
      "cell_type": "code",
      "execution_count": null,
      "metadata": {
        "collapsed": false
      },
      "outputs": [],
      "source": [
        "import numpy as np\n# import xcell\nimport pyvista as pv\nfrom scipy.spatial import ConvexHull\n\nstl = pv.read('fullbrain_oriented.stl')\nresult = pv.read('xcell2-11.vtk')\n\nstl.rotate_x(90., inplace=True)\n# pv.set_jupyter_backend(None)\n\npts = stl.points\nax = 2\n\nbbox = np.hstack((np.min(pts, axis=0),\n                  np.max(pts, axis=0)))\nxmax = np.max(np.abs(bbox))*1.5\n\n\nmoldbb = stl.bounds+2*np.sign(stl.bounds)\n\nbox = pv.Box(bounds=moldbb, quads=False, level=10)\n\n# adapted from https://gist.github.com/flutefreak7/bd621a9a836c8224e92305980ed829b9\n\n\ndef hull(mesh):\n    hull = ConvexHull(np.array(mesh.points))\n    faces = np.column_stack(\n        (3*np.ones((len(hull.simplices), 1), dtype=int), hull.simplices)).flatten()\n    poly = pv.PolyData(hull.points, faces)\n    return poly"
      ]
    },
    {
      "cell_type": "code",
      "execution_count": null,
      "metadata": {
        "collapsed": false
      },
      "outputs": [],
      "source": [
        "k = [0.8, 0.6, 0.9]\ndx = [0, -5, 0.]\np = pv.Plotter()\np.add_mesh(lhh.scale(k).translate(dx), color='red', opacity=0.8)\np.add_mesh(lh)\np.show()"
      ]
    },
    {
      "cell_type": "code",
      "execution_count": null,
      "metadata": {
        "collapsed": false
      },
      "outputs": [],
      "source": [
        "maxdist = 15.\nhl = hull(stl)\ndst = stl.compute_implicit_distance(hl)\nok = dst.clip_scalar(value=maxdist).clip_scalar(value=-maxdist, invert=False)\n\nok.extract_largest().plot()"
      ]
    },
    {
      "cell_type": "code",
      "execution_count": null,
      "metadata": {
        "collapsed": false
      },
      "outputs": [],
      "source": [
        "scale = [0.8, 0.8, 0.4]\nslide = [0, 0, -5.]\n\ninside = hl.scale(scale).translate(slide)\nsimple = stl.boolean_union(inside, progress_bar=True)\n\nsimple.plot()\n# p=pv.Plotter()\n# p.add_mesh(inside,color='red')\n# p.add_mesh(stl,opacity=0.5,color='blue')\n# p.show()"
      ]
    },
    {
      "cell_type": "code",
      "execution_count": null,
      "metadata": {
        "collapsed": false
      },
      "outputs": [],
      "source": [
        "moldbb = 2*np.sign(result.bounds)+np.array(result.bounds)\nlbound = moldbb.copy()\nrbound = moldbb.copy()\nlbound[3] = 0\nrbound[2] = 0\n\ntribrain = result.extract_surface().triangulate()\nlmold = pv.Box(lbound, quads=False).boolean_difference(tribrain)"
      ]
    },
    {
      "cell_type": "code",
      "execution_count": null,
      "metadata": {
        "collapsed": false
      },
      "outputs": [],
      "source": [
        "vols = result.compute_cell_sizes(volume=True)\nvol = vols['Volume']\ndepths = (np.log2(vol/min(vol))/3).astype(int)\n\nresult.cell_data['depth'] = depths\n\nsubmeshes = []\nfor d in np.unique(depths):\n    sel = depths == d\n\n    sub = result.copy()\n    sub.cell_data['sel'] = sel\n    submeshes.append(sub.threshold(scalars='sel', value=0.5))"
      ]
    }
  ],
  "metadata": {
    "kernelspec": {
      "display_name": "Python 3",
      "language": "python",
      "name": "python3"
    },
    "language_info": {
      "codemirror_mode": {
        "name": "ipython",
        "version": 3
      },
      "file_extension": ".py",
      "mimetype": "text/x-python",
      "name": "python",
      "nbconvert_exporter": "python",
      "pygments_lexer": "ipython3",
      "version": "3.9.16"
    }
  },
  "nbformat": 4,
  "nbformat_minor": 0
}