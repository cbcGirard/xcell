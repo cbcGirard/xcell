{
 "cells": [
  {
   "cell_type": "code",
   "execution_count": 1,
   "id": "773f7542-8d74-4b3c-a627-33481e039d4a",
   "metadata": {},
   "outputs": [
    {
     "name": "stderr",
     "output_type": "stream",
     "text": [
      "Warning: no DISPLAY environment variable.\n",
      "--No graphics will be displayed.\n"
     ]
    },
    {
     "data": {
      "application/vnd.jupyter.widget-view+json": {
       "model_id": "4b7a831cacd1400ba0fa84497d240c6e",
       "version_major": 2,
       "version_minor": 0
      },
      "text/plain": [
       "Renderer(camera=PerspectiveCamera(aspect=1.3333333333333333, children=(DirectionalLight(intensity=0.25, positi…"
      ]
     },
     "metadata": {},
     "output_type": "display_data"
    }
   ],
   "source": [
    "import xcell\n",
    "import numpy as np\n",
    "from scipy.spatial.transform import Rotation\n",
    "import pyvista as pv\n",
    "\n",
    "from matplotlib.colors import to_rgba_array\n",
    "\n",
    "pv.global_theme.jupyter_backend='pythreejs'\n",
    "\n",
    "#bodies, misc, oriens, and hilus\n",
    "sigmas = 1/np.array([6.429,\n",
    "3.215,\n",
    "2.879,\n",
    "2.605])\n",
    "\n",
    "#latest from https://github.com/Head-Conductivity/Human-Head-Conductivity\n",
    "sigma_0=0.3841\n",
    "\n",
    "\n",
    "xdom = 5e-2\n",
    "\n",
    "dbody = 1.3e-3\n",
    "dmicro = 17e-6\n",
    "wmacro = 2e-3\n",
    "\n",
    "pitchMacro = 5e-3\n",
    "\n",
    "nmacro = 6  # 4-6\n",
    "nmicro = 24  # 10-24\n",
    "\n",
    "microRows = 5\n",
    "microCols = 3\n",
    "\n",
    "orientation = np.array([1., 0., 0.])\n",
    "\n",
    "tipPt = 1e-3*np.array([-5., 2., 0])\n",
    "bodyL = 0.05\n",
    "\n",
    "tpulse = 1e-3  # per phase\n",
    "ipulse = 150e-6\n",
    "vpulse = 1.\n",
    "\n",
    "\n",
    "hippo=pv.read('./Geometry/slice77600_ext10000.vtk')\n",
    "brainXform=-np.array(hippo.center)\n",
    "hippo.translate(brainXform,inplace=True)\n",
    "\n",
    "xdom = max(np.array(hippo.bounds[1::2])-np.array(hippo.bounds[::2]))\n",
    "\n",
    "\n",
    "bbox = xdom * np.concatenate((-np.ones(3), np.ones(3)))\n",
    "\n",
    "maxdepth = int(np.log2(xdom / dmicro)) + 2\n",
    "\n",
    "sim = xcell.Simulation('test', bbox=bbox)\n",
    "\n",
    "\n",
    "\n",
    "\n",
    "body = xcell.geometry.Cylinder(\n",
    "    tipPt+bodyL*orientation/2, radius=dbody/2, length=bodyL, axis=orientation)\n",
    "\n",
    "bodyMesh = pv.Cylinder(center=body.center,\n",
    "                       direction=body.axis,\n",
    "                       radius=body.radius,\n",
    "                       height=body.length)\n",
    "\n",
    "macroElectrodes = []\n",
    "microElectrodes = []\n",
    "elecMeshes = []\n",
    "\n",
    "refPts = []\n",
    "refSizes = []\n",
    "\n",
    "for ii in range(nmacro):\n",
    "    pt = tipPt+(ii+1)*pitchMacro*orientation\n",
    "\n",
    "    geo = xcell.geometry.Cylinder(pt, dbody/2, wmacro, orientation)\n",
    "\n",
    "    sim.addCurrentSource(0,\n",
    "                         coords=pt,\n",
    "                         geometry=geo)\n",
    "\n",
    "    macroElectrodes.append(geo)\n",
    "\n",
    "    refPts.append(geo.center)\n",
    "\n",
    "    elecMeshes.append(pv.Cylinder(center=geo.center,\n",
    "                                  direction=geo.axis,\n",
    "                                  radius=geo.radius,\n",
    "                                  height=geo.length,\n",
    "                                  ))\n",
    "\n",
    "\n",
    "for ii in range(microRows):\n",
    "    rowpt = tipPt+(ii+.5)*pitchMacro*orientation\n",
    "\n",
    "    for jj in range(microCols):\n",
    "        rot = Rotation.from_rotvec(np.array([0, 2*jj/microCols*np.pi, 0]))\n",
    "        microOrientation = rot.apply(0.5*dbody*np.array([0., 0., 1.]))\n",
    "\n",
    "        geo = xcell.geometry.Disk(\n",
    "            center=rowpt+microOrientation,\n",
    "            radius=dmicro/2, axis=microOrientation,\n",
    "            tol=0.5)\n",
    "\n",
    "        sim.addCurrentSource(0, coords=geo.center,\n",
    "                             geometry=geo)\n",
    "\n",
    "        microElectrodes.append(geo)\n",
    "\n",
    "        refPts.append(geo.center)\n",
    "        elecMeshes.append(pv.Disc(center=geo.center,\n",
    "                                  inner=0,\n",
    "                                  outer=geo.radius,\n",
    "                                  normal=geo.axis))\n",
    "\n",
    "\n",
    "p = pv.Plotter()\n",
    "p.add_mesh(hippo, opacity=0.5)\n",
    "p.show_bounds()\n",
    "p.add_mesh(bodyMesh, color='white')\n",
    "[p.add_mesh(m, color='gold') for m in elecMeshes]\n",
    "p.show(auto_close=False)"
   ]
  },
  {
   "cell_type": "code",
   "execution_count": 7,
   "id": "c4047430-ac6d-45e1-bf75-b5b6c6456bb1",
   "metadata": {},
   "outputs": [
    {
     "name": "stdout",
     "output_type": "stream",
     "text": [
      "268283 elem\n"
     ]
    },
    {
     "data": {
      "image/png": "[encoded data removed]",
      "text/plain": [
       "<Figure size 432x288 with 1 Axes>"
      ]
     },
     "metadata": {
      "needs_background": "dark"
     },
     "output_type": "display_data"
    }
   ],
   "source": [
    "# %% Octree mesh visualization\n",
    "sim.quickAdaptiveGrid(maxdepth)\n",
    "\n",
    "inCyl = body.isInside(sim.mesh.nodeCoords).astype(int)\n",
    "inElec = np.any([a.geometry.isInside(sim.mesh.nodeCoords)\n",
    "                 for a in sim.currentSources], axis=0).astype(int)\n",
    "\n",
    "\n",
    "colors = to_rgba_array([xcell.colors.NULL,\n",
    "                        xcell.colors.FAINT,\n",
    "                        xcell.colors.scopeColors[0]]\n",
    "                       )\n",
    "colors[1, -1] = 0.02\n",
    "\n",
    "vals = inCyl+inElec\n",
    "\n",
    "ax = xcell.visualizers.new3dPlot(bbox)\n",
    "\n",
    "xcell.visualizers.showNodes3d(\n",
    "    ax, sim.mesh.nodeCoords, vals, colors=colors[vals])\n",
    "\n",
    "# ax.set_axis_off() #hides axes too\n",
    "[a.pane.set_alpha(0) for a in [ax.xaxis, ax.yaxis, ax.zaxis]\n",
    " ]  # only hides background planes\n",
    "\n",
    "k = 4\n",
    "\n",
    "ax.set_xlim3d(-(k-1)*pitchMacro, (k+1)*pitchMacro)\n",
    "ax.set_ylim3d(-k*pitchMacro, k*pitchMacro)\n",
    "ax.set_zlim3d(-k*pitchMacro, k*pitchMacro)\n",
    "ax.view_init(elev=30, azim=-135)"
   ]
  },
  {
   "cell_type": "code",
   "execution_count": 3,
   "id": "46556348-50c7-4c3f-85dd-7462f19ec79f",
   "metadata": {},
   "outputs": [
    {
     "data": {
      "application/vnd.jupyter.widget-view+json": {
       "model_id": "b8e1d812b532491ab176440baa4b980e",
       "version_major": 2,
       "version_minor": 0
      },
      "text/plain": [
       "Renderer(camera=PerspectiveCamera(aspect=1.3333333333333333, children=(DirectionalLight(intensity=0.25, positi…"
      ]
     },
     "metadata": {},
     "output_type": "display_data"
    }
   ],
   "source": [
    "#test direct mapping\n",
    "ctr=np.array([el.center for el in sim.mesh.elements])\n",
    "vtk=xcell.io.toVTK(sim.mesh)\n",
    "vctr=pv.wrap(ctr)\n",
    "\n",
    "p = pv.Plotter()\n",
    "p.add_mesh_slice_orthogonal(vtk,show_edges=True)\n",
    "p.show()"
   ]
  },
  {
   "cell_type": "code",
   "execution_count": 4,
   "id": "b3c18e44-9000-44d1-96c5-1823bd119507",
   "metadata": {},
   "outputs": [
    {
     "name": "stderr",
     "output_type": "stream",
     "text": [
      "/home/benoit/anaconda3/envs/xcell/lib/python3.9/site-packages/pyvista/core/pointset.py:206: PyVistaDeprecationWarning: You did not specify a value for `inplace` and the default value will be changing to `False` in future versions for point-based meshes (e.g., `PolyData`). Please make sure you are not assuming this to be an inplace operation.\n",
      "  warnings.warn(DEFAULT_INPLACE_WARNING, PyVistaDeprecationWarning)\n",
      "\u001b[0m\u001b[33m2023-03-03 13:37:39.695 (  21.338s) [        93F15740]       vtkThreshold.cxx:96    WARN| vtkThreshold::ThresholdBetween was deprecated for VTK 9.1 and will be removed in a future version.\u001b[0m\n",
      "\u001b[0m\u001b[33m2023-03-03 13:37:39.697 (  21.340s) [        93F15740]       vtkThreshold.cxx:96    WARN| vtkThreshold::ThresholdBetween was deprecated for VTK 9.1 and will be removed in a future version.\u001b[0m\n",
      "\u001b[0m\u001b[33m2023-03-03 13:37:39.698 (  21.341s) [        93F15740]       vtkThreshold.cxx:96    WARN| vtkThreshold::ThresholdBetween was deprecated for VTK 9.1 and will be removed in a future version.\u001b[0m\n",
      "Selecting Enclosed Points: 100%|███████████████████████████████████████████████████████████████████████████[00:23<00:00]\n",
      "Selecting Enclosed Points: 100%|███████████████████████████████████████████████████████████████████████████[00:04<00:00]\n",
      "Selecting Enclosed Points: 100%|███████████████████████████████████████████████████████████████████████████[00:00<00:00]\n",
      "\u001b[0m\u001b[33m2023-03-03 13:38:07.625 (  49.268s) [        93F15740]       vtkThreshold.cxx:96    WARN| vtkThreshold::ThresholdBetween was deprecated for VTK 9.1 and will be removed in a future version.\u001b[0m\n",
      "Selecting Enclosed Points: 100%|███████████████████████████████████████████████████████████████████████████[00:00<00:00]\n",
      "\u001b[0m\u001b[33m2023-03-03 13:38:07.711 (  49.354s) [        93F15740]       vtkThreshold.cxx:96    WARN| vtkThreshold::ThresholdBetween was deprecated for VTK 9.1 and will be removed in a future version.\u001b[0m\n",
      "\u001b[0m\u001b[33m2023-03-03 13:38:07.713 (  49.356s) [        93F15740]       vtkThreshold.cxx:96    WARN| vtkThreshold::ThresholdBetween was deprecated for VTK 9.1 and will be removed in a future version.\u001b[0m\n",
      "Selecting Enclosed Points: 100%|███████████████████████████████████████████████████████████████████████████[00:29<00:00]\n",
      "Selecting Enclosed Points: 100%|███████████████████████████████████████████████████████████████████████████[00:00<00:00]\n",
      "\u001b[0m\u001b[33m2023-03-03 13:38:37.810 (  79.453s) [        93F15740]       vtkThreshold.cxx:96    WARN| vtkThreshold::ThresholdBetween was deprecated for VTK 9.1 and will be removed in a future version.\u001b[0m\n",
      "\u001b[0m\u001b[33m2023-03-03 13:38:37.812 (  79.454s) [        93F15740]       vtkThreshold.cxx:96    WARN| vtkThreshold::ThresholdBetween was deprecated for VTK 9.1 and will be removed in a future version.\u001b[0m\n",
      "\u001b[0m\u001b[33m2023-03-03 13:38:37.812 (  79.455s) [        93F15740]       vtkThreshold.cxx:96    WARN| vtkThreshold::ThresholdBetween was deprecated for VTK 9.1 and will be removed in a future version.\u001b[0m\n",
      "Selecting Enclosed Points: 100%|███████████████████████████████████████████████████████████████████████████[00:19<00:00]\n",
      "Selecting Enclosed Points: 100%|███████████████████████████████████████████████████████████████████████████[00:02<00:00]\n",
      "Selecting Enclosed Points: 100%|███████████████████████████████████████████████████████████████████████████[00:00<00:00]\n"
     ]
    },
    {
     "data": {
      "application/vnd.jupyter.widget-view+json": {
       "model_id": "6703729e40aa41a1959eef1a7a21a85d",
       "version_major": 2,
       "version_minor": 0
      },
      "text/plain": [
       "Renderer(camera=PerspectiveCamera(aspect=1.3333333333333333, children=(DirectionalLight(intensity=0.25, positi…"
      ]
     },
     "metadata": {},
     "output_type": "display_data"
    }
   ],
   "source": [
    "vpts=vtk.cell_centers()\n",
    "pts=vpts.points\n",
    "\n",
    "sigArray=sigma_0*np.ones(vpts.n_points)\n",
    "\n",
    "\n",
    "\n",
    "files=['bodies','misc','oriens','hilus']\n",
    "\n",
    "\n",
    "for f,sig in zip(files,sigmas):\n",
    "    region=pv.read('Geometry/'+f+'.stl').translate(brainXform)\n",
    "    \n",
    "    subs=region.split_bodies()\n",
    "    for subreg in subs:\n",
    "        enc=vpts.select_enclosed_points(subreg.extract_surface(),progress_bar=True)\n",
    "        sel=enc['SelectedPoints']==1\n",
    "\n",
    "        sigArray[sel]=sig\n",
    "\n",
    "# ins=vpts.select_enclosed_points(bodyMesh.extract_surface())\n",
    "# body.isInside\n",
    "sigArray[body.isInside(pts)]=0\n",
    "\n",
    "vpts.cell_data['sigma']=sigArray\n",
    "vpts.set_active_scalars('sigma')\n",
    "vpts.save('sigmaz.vtk')\n",
    "\n",
    "sigmesh = vtk.copy()\n",
    "sigmesh.cell_data['sigma']=sigArray\n",
    "sigmesh.set_active_scalars('sigma')\n",
    "sigmesh.plot()"
   ]
  },
  {
   "cell_type": "code",
   "execution_count": 8,
   "id": "7179dd54-aef9-4749-a169-031d6962b167",
   "metadata": {},
   "outputs": [
    {
     "data": {
      "application/vnd.jupyter.widget-view+json": {
       "model_id": "23e8bf0c691948afb3d959c944dae3a4",
       "version_major": 2,
       "version_minor": 0
      },
      "text/plain": [
       "Renderer(camera=PerspectiveCamera(aspect=1.3333333333333333, children=(DirectionalLight(intensity=0.25, positi…"
      ]
     },
     "metadata": {},
     "output_type": "display_data"
    }
   ],
   "source": [
    "sigmesh.slice_orthogonal().plot(show_edges=True)"
   ]
  },
  {
   "cell_type": "code",
   "execution_count": 6,
   "id": "2ed75939-37e9-43e4-9ae5-a82d0e9b651d",
   "metadata": {},
   "outputs": [
    {
     "name": "stderr",
     "output_type": "stream",
     "text": [
      "Resampling array Data from a Passed Mesh onto Mesh: 100%|██████████████████████████████████████████████████[00:25<00:00]\n"
     ]
    },
    {
     "data": {
      "application/vnd.jupyter.widget-view+json": {
       "model_id": "b313bf58f34143439ccd2c9aba690ea0",
       "version_major": 2,
       "version_minor": 0
      },
      "text/plain": [
       "Renderer(camera=PerspectiveCamera(aspect=1.3333333333333333, children=(DirectionalLight(intensity=0.25, positi…"
      ]
     },
     "metadata": {},
     "output_type": "display_data"
    }
   ],
   "source": [
    "#test direct mapping\n",
    "ctr=np.array([el.center for el in sim.mesh.elements])\n",
    "\n",
    "vctr=pv.wrap(ctr)\n",
    "\n",
    "sigz=vctr.sample(hippo,progress_bar=True)\n",
    "sigmesh=xcell.io.toVTK(sim.mesh)\n",
    "sigmesh.cell_data['sigma']=sigz['sigma']\n",
    "\n",
    "p = pv.Plotter()\n",
    "p.add_mesh_slice_orthogonal(sigmesh)\n",
    "p.show()"
   ]
  },
  {
   "cell_type": "code",
   "execution_count": null,
   "id": "16f29db9-bbd0-4f05-835c-a930772aad5e",
   "metadata": {},
   "outputs": [],
   "source": []
  }
 ],
 "metadata": {
  "kernelspec": {
   "display_name": "Python 3 (ipykernel)",
   "language": "python",
   "name": "python3"
  },
  "language_info": {
   "codemirror_mode": {
    "name": "ipython",
    "version": 3
   },
   "file_extension": ".py",
   "mimetype": "text/x-python",
   "name": "python",
   "nbconvert_exporter": "python",
   "pygments_lexer": "ipython3",
   "version": "3.9.15"
  }
 },
 "nbformat": 4,
 "nbformat_minor": 5
}
