{
  "cells": [
    {
      "cell_type": "markdown",
      "metadata": {},
      "source": [
        "\n# Single timestep\n\nIllustrates setting up a simulation and solving at a single time step\n"
      ]
    },
    {
      "cell_type": "code",
      "execution_count": null,
      "metadata": {
        "collapsed": false
      },
      "outputs": [],
      "source": [
        "import numpy as np\nimport xcell\nimport matplotlib.pyplot as plt"
      ]
    },
    {
      "cell_type": "markdown",
      "metadata": {},
      "source": [
        "Simulation preferences\n\n"
      ]
    },
    {
      "cell_type": "code",
      "execution_count": null,
      "metadata": {
        "collapsed": false
      },
      "outputs": [],
      "source": [
        "# Misc parameters\nxcell.colors.useLightStyle()\nstudyPath = '/dev/null'\n\n# options = uniform, adaptive\nmeshtype = 'adaptive'\n\nmaxdepth = 10  # Maximum successive splits allowed for octree mesh\nnX = 10  # Number of elements along an axis for a uniform mesh\n\n# options: Admittance, Face, FEM\nelementType = 'Admittance'\ndual = True\nregularize = False\n\n# options: analytical, ground\nboundaryType = 'ground'\n\nfixedVoltageSource = False  # otherwise, simulate current injection"
      ]
    },
    {
      "cell_type": "markdown",
      "metadata": {},
      "source": [
        "Setup simulation\n\n"
      ]
    },
    {
      "cell_type": "code",
      "execution_count": null,
      "metadata": {
        "collapsed": false
      },
      "outputs": [],
      "source": [
        "xmax = 1e-4  # domain boundary\nrElec = 1e-6  # center source radius\n\nsigma = np.ones(3)\n\nbbox = np.append(-xmax*np.ones(3), xmax*np.ones(3))\nstudy = xcell.SimStudy(studyPath, bbox)\n\nsetup = study.newSimulation()\nsetup.mesh.elementType = elementType\nsetup.meshtype = meshtype\n\nif fixedVoltageSource:\n    setup.addVoltageSource(xcell.signals.Signal(1), np.zeros(3), rElec)\n    srcMag = 1.\n    srcType = 'Voltage'\nelse:\n    srcMag = 4*np.pi*sigma[0]*rElec\n    setup.addCurrentSource(xcell.signals.Signal(srcMag), np.zeros(3), rElec)\n    srcType = 'Current'\n\nif meshtype == 'uniform':\n    setup.makeUniformGrid(nX)\n    print('uniform, %d per axis' % nX)\nelse:\n    setup.makeAdaptiveGrid(refPts=np.zeros((1, 3)),\n                           maxdepth=np.array(maxdepth, ndmin=1),\n                           minl0Function=xcell.generalMetric,\n                           # coefs=np.array(2**(-0.2*maxdepth), ndmin=1))\n                           coefs=np.array(0.2, ndmin=1))\n\nif boundaryType == 'analytical':\n    boundaryFun = None\nelse:\n    def boundaryFun(coord):\n        r = np.linalg.norm(coord)\n        return rElec/(r*np.pi*4)\n\n\nsetup.finalizeMesh()\n\nsetup.setBoundaryNodes(boundaryFun, sigma=1)\n\nv = setup.iterativeSolve(None, 1e-9)\nsetup.applyTransforms()\n\n\nsetup.getMemUsage(True)\nsetup.printTotalTime()\n\nsetup.startTiming('Estimate error')\n# srcMag,srcType,showPlots=showGraphs)\nerrEst, arErr, _, _, _ = setup.calculateErrors()\nprint('error: %g' % errEst)\nsetup.logTime()"
      ]
    },
    {
      "cell_type": "markdown",
      "metadata": {},
      "source": [
        "## SliceViewer\nInteractive slice viewer (use arrow keys to change location within ipython session)\n\n\n"
      ]
    },
    {
      "cell_type": "code",
      "execution_count": null,
      "metadata": {
        "collapsed": false
      },
      "outputs": [],
      "source": [
        "sv = xcell.visualizers.SliceViewer(axis=None, sim=setup)"
      ]
    },
    {
      "cell_type": "markdown",
      "metadata": {},
      "source": [
        "2d image\n\n"
      ]
    },
    {
      "cell_type": "code",
      "execution_count": null,
      "metadata": {
        "collapsed": false
      },
      "outputs": [],
      "source": [
        "bnd = setup.mesh.bbox[[0, 3, 2, 4]]\n\narr, _ = setup.getValuesInPlane()\ncMap, cNorm = xcell.visualizers.getCmap(setup.nodeVoltages, forceBipolar=True)\nxcell.visualizers.patchworkImage(plt.figure().gca(),\n                                 arr, cMap, cNorm,\n                                 extent=bnd)"
      ]
    },
    {
      "cell_type": "code",
      "execution_count": null,
      "metadata": {
        "collapsed": false
      },
      "outputs": [],
      "source": [
        "ax = plt.figure().add_subplot()\nxcell.visualizers.formatXYAxis(ax, bnd)\narr = xcell.visualizers.resamplePlane(ax, setup)\n\ncMap, cNorm = xcell.visualizers.getCmap(arr.ravel(), forceBipolar=True)\nxcell.visualizers.patchworkImage(ax,\n                                 [arr], cMap, cNorm,\n                                 extent=bnd)\n\n_, _, edgePoints = setup.getElementsInPlane()\nxcell.visualizers.showEdges2d(ax, edgePoints)"
      ]
    },
    {
      "cell_type": "markdown",
      "metadata": {},
      "source": [
        "TOPOLOGY/connectivity\n\n"
      ]
    },
    {
      "cell_type": "code",
      "execution_count": null,
      "metadata": {
        "collapsed": false
      },
      "outputs": [],
      "source": [
        "ax = xcell.visualizers.showMesh(setup)\nax.set_xticks([])\nax.set_yticks([])\nax.set_zticks([])\nghost = (.0, .0, .0, 0.0)\nax.xaxis.set_pane_color(ghost)\nax.yaxis.set_pane_color(ghost)\nax.zaxis.set_pane_color(ghost)\n\n\nxcell.visualizers.showEdges(ax,\n                            setup.mesh.nodeCoords,\n                            setup.edges,\n                            setup.conductances)\n\nbnodes = setup.mesh.getBoundaryNodes()\nxcell.visualizers.showNodes3d(ax,\n                              setup.mesh.nodeCoords[bnodes],\n                              nodeVals=np.ones_like(bnodes),\n                              colors='r')"
      ]
    },
    {
      "cell_type": "markdown",
      "metadata": {},
      "source": [
        "## SliceSet\n\n\n"
      ]
    },
    {
      "cell_type": "code",
      "execution_count": null,
      "metadata": {
        "collapsed": false
      },
      "outputs": [],
      "source": [
        "# sphinx_gallery_thumbnail_number = 5\nimg = xcell.visualizers.SliceSet(plt.figure(), study)\nimg.addSimulationData(setup, append=True)\nimg.getArtists(0)"
      ]
    },
    {
      "cell_type": "markdown",
      "metadata": {},
      "source": [
        "## ErrorGraph\n\n\n"
      ]
    },
    {
      "cell_type": "code",
      "execution_count": null,
      "metadata": {
        "collapsed": false
      },
      "outputs": [],
      "source": [
        "ptr = xcell.visualizers.ErrorGraph(plt.figure(), study)\nptr.prefs['universalPts'] = True\npdata = ptr.addSimulationData(setup)\nptr.getArtists(0, pdata)"
      ]
    },
    {
      "cell_type": "markdown",
      "metadata": {},
      "source": [
        "## LogError\n\n\n"
      ]
    },
    {
      "cell_type": "code",
      "execution_count": null,
      "metadata": {
        "collapsed": false
      },
      "outputs": [],
      "source": [
        "P = xcell.visualizers.LogError(None, study)\nP.addSimulationData(setup, True)\nP.getArtists(0)"
      ]
    }
  ],
  "metadata": {
    "kernelspec": {
      "display_name": "Python 3",
      "language": "python",
      "name": "python3"
    },
    "language_info": {
      "codemirror_mode": {
        "name": "ipython",
        "version": 3
      },
      "file_extension": ".py",
      "mimetype": "text/x-python",
      "name": "python",
      "nbconvert_exporter": "python",
      "pygments_lexer": "ipython3",
      "version": "3.9.16"
    }
  },
  "nbformat": 4,
  "nbformat_minor": 0
}