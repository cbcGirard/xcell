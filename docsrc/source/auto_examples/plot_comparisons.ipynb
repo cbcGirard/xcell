{
  "cells": [
    {
      "cell_type": "markdown",
      "metadata": {},
      "source": [
        "\n# Depth sweep\n\nCompare performance as mesh resolution increases. Generates ch3-4 data.\n"
      ]
    },
    {
      "cell_type": "code",
      "execution_count": null,
      "metadata": {
        "collapsed": false
      },
      "outputs": [],
      "source": [
        "import xcell as xc\nimport Common_nongallery\nimport matplotlib.pyplot as plt\nimport argparse\nimport numpy as np\n\ncli = argparse.ArgumentParser()\ncli.add_argument(\"--comparison\", choices=[\"bounds\", \"mesh\", \"formula\", \"bigPOC\", \"fixedDisc\"], default=\"fixedDisc\")\ncli.add_argument(\"-p\", \"--plot-only\", help=\"skip simulation and use existing data\", action=\"store_true\")\n# cli.add_argument('-a','--animate',help='skip simulation and use existing data', action = 'store_true')\n# cli.add_argument('-p','--plot-only',help='skip simulation and use existing data', action = 'store_true')\n\nargs = cli.parse_args()\n\n\ngenerate = True\n\n# plot performance info\nstaticPlots = True\n\ndepths = np.arange(3, 12)\n\nxtraParams = None\nxmax = 1e-4\nif args.comparison == \"mesh\" or args.comparison == \"bigPOC\":\n    foldername = \"Comparison/PoC\"\n    tstVals = [\"adaptive\", \"uniform\"]\n    # tstVals=['adaptive','equal elements',r'equal $l_0$']\n    tstCat = \"Mesh type\"\nif args.comparison == \"formula\" or args.comparison == \"fixedDisc\":\n    foldername = \"Comparison/formulations\"\n    tstVals = [\"Admittance\", \"FEM\", \"Face\"]\n    tstCat = \"Element type\"\nif args.comparison == \"bounds\":\n    foldername = \"Comparison/boundaries\"\n    tstVals = [\"Analytic\", \"Ground\", \"Rubik0\"]\n    tstCat = \"Boundary\"\nif args.comparison == \"testing\":\n    foldername = \"Comparison/miniset\"\n    tstVals = [\"adaptive\", \"uniform\"]\n    tstCat = \"Mesh type\"\n    generate = False\n    staticPlots = False\n    depths = np.arange(3, 8)\n\nif args.comparison == \"bigPOC\":\n    foldername = \"Comparison/bigPOC\"\n    xmax = 1e-2\n\nif args.comparison == \"fixedDisc\":\n    foldername = \"Comparison/fixedDisc\"\n    xtraParams = {\"boundary_functionction\": \"Analytic\"}\n\n\n# if args.comparison=='voltage':\n# tstVals=[False, True]\n# tstCat='Vsrc?'\n\n\n# generate animation(s)\nplotters = [\n    xc.visualizers.ErrorGraph,\n    # xc.visualizers.ErrorGraph,\n    # xc.visualizers.SliceSet,\n    # xc.visualizers.LogError,\n    # xc.visualizers.CurrentPlot,\n]\n\nplotPrefs = [\n    None,\n    # {'onlyDoF':True},\n    # None,\n    # None,\n]\n\n\nstudy, _ = Common_nongallery.makeSynthStudy(foldername, xmax=xmax)"
      ]
    },
    {
      "cell_type": "code",
      "execution_count": null,
      "metadata": {
        "collapsed": false
      },
      "outputs": [],
      "source": [
        "if generate and not args.plot_only:\n    Common_nongallery.pairedDepthSweep(\n        study, depthRange=depths, testCat=tstCat, testVals=tstVals, overrides=xtraParams\n    )"
      ]
    },
    {
      "cell_type": "code",
      "execution_count": null,
      "metadata": {
        "collapsed": false
      },
      "outputs": [],
      "source": [
        "costcat = \"Error\"\n# costcat='FVU'\n# x_category='l0min'\n\nxvalues = [\"Number of elements\", \"min_l0\", \"Total time [Wall]\"]\nxtags = [\"numel\", \"l0\", \"totTime\"]\nif staticPlots:\n    for x_category, xtag in zip(xvalues, xtags):\n        xc.visualizers.grouped_scatter(\n            study.study_path + \"/log.csv\", x_category=x_category, y_category=costcat, group_category=tstCat\n        )\n        fname = tstCat + \"_\" + costcat + \"-vs-\" + xtag\n        fname.replace(\" \", \"_\")\n        nufig = plt.gcf()\n        study.save_plot(nufig, fname)\n        for fv in tstVals:\n            fstack, fratio = xc.visualizers.plot_study_performance(\n                study, plot_ratios=True, only_category=tstCat, only_value=fv\n            )\n            fstem = \"_\" + tstCat + str(fv)\n\n            study.save_plot(fstack, \"Performance\" + fstem)\n\n            study.save_plot(fratio, \"Ratio\" + fstem)"
      ]
    },
    {
      "cell_type": "code",
      "execution_count": null,
      "metadata": {
        "collapsed": false
      },
      "outputs": [],
      "source": [
        "for ii, p in enumerate(plotters):\n    plots = []\n    names = []\n    ranges = None\n    for fv in tstVals:\n        fname = p.__name__ + \"_\" + str(fv)\n        fname.replace(\" \", \"_\")\n        plotr = p(plt.figure(), study, prefs=plotPrefs[ii])\n        if \"universalPts\" in plotr.prefs:\n            plotr.prefs[\"universalPts\"] = True\n        if \"onlyDoF\" in plotr.prefs:\n            if plotr.prefs[\"onlyDoF\"]:\n                fname += \"-detail\"\n\n        plotr.get_study_data(filter_categories=[tstCat], filter_values=[fv])\n\n        plots.append(plotr)\n        names.append(fname)\n\n        if ranges is not None:\n            plotr.unify_scales(ranges)\n        ranges = plotr.data_scales\n\n    for plot, name in zip(plots, names):\n        plot.data_scales = ranges\n\n        plot.animate_study(fname=name, fps=1.0)"
      ]
    }
  ],
  "metadata": {
    "kernelspec": {
      "display_name": "Python 3",
      "language": "python",
      "name": "python3"
    },
    "language_info": {
      "codemirror_mode": {
        "name": "ipython",
        "version": 3
      },
      "file_extension": ".py",
      "mimetype": "text/x-python",
      "name": "python",
      "nbconvert_exporter": "python",
      "pygments_lexer": "ipython3",
      "version": "3.9.18"
    }
  },
  "nbformat": 4,
  "nbformat_minor": 0
}