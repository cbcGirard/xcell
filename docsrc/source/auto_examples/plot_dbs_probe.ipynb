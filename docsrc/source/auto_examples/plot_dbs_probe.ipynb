{
  "cells": [
    {
      "cell_type": "markdown",
      "metadata": {},
      "source": [
        "\n# DBS Electrode\n\nProgrammatically generate micro-macro electrode array\n"
      ]
    },
    {
      "cell_type": "code",
      "execution_count": null,
      "metadata": {
        "collapsed": false
      },
      "outputs": [],
      "source": [
        "import xcell as xc\nimport numpy as np\nfrom scipy.spatial.transform import Rotation\nimport pyvista as pv\nimport pickle\n\nfrom matplotlib.colors import to_rgba_array\n\ncomposite = pv.MultiBlock()\nregions = xc.io.Regions()\n\n# bodies, misc, oriens, and hilus\nsigmas = 1 / np.array([6.429, 3.215, 2.879, 2.605])\n\n# latest from https://github.com/Head-Conductivity/Human-Head-Conductivity\nsigma_0 = 0.3841\n\n\nxdom = 5e-2\n\ndbody = 1.3e-3\ndmicro = 17e-6\n# dmicro = 5e-4\nwmacro = 2e-3\n\npitchMacro = 5e-3\n\nnmacro = 6  # 4-6\nnmicro = 24  # 10-24\n\nmicroRows = 5\nmicroCols = 3\n\norientation = np.array([1.0, 0.0, 0.0])\n\ntipPt = 1e-3 * np.array([-5.0, 2.0, 0])\nbodyL = 0.05\n\ntpulse = 1e-3  # per phase\nipulse = 150e-6\nvpulse = 1.0\n\n\nhippo = pv.read(\"./Geometry/slice77600_ext10000.vtk\")\nbrainXform = -np.array(hippo.center)\nhippo.translate(brainXform, inplace=True)\n\nfiles = [\"bodies\", \"misc\", \"oriens\", \"hilus\"]\n\nfor f, sig in zip(files, sigmas):\n    region = pv.read(\"Geometry/\" + f + \".stl\").translate(brainXform)\n    region.cell_data[\"sigma\"] = sig\n    regions.addMesh(region, \"Conductors\")\n    composite.append(region, name=f)\n\n# xdom = max(np.array(hippo.bounds[1::2])-np.array(hippo.bounds[::2]))\nxdom = pitchMacro * (nmacro + 1)\n\n\nbbox = xdom * np.concatenate((-np.ones(3), np.ones(3)))\n\n# set smallest element to microelectrode radius or smaller\nmax_depth = int(np.log2(xdom / dmicro)) + 2\n\nsim = xc.Simulation(\"test\", bbox=bbox)\n\n\nbody = xc.geometry.Cylinder(tipPt + bodyL * orientation / 2, radius=dbody / 2,\n                             length=bodyL, axis=orientation)\n\n# bugfix to force detection of points inside cylindrical body\nbodyMesh = xc.geometry.to_pyvista(body)\nregions.addMesh(bodyMesh, category=\"Insulators\")\n\n# bodyMesh = pv.Cylinder(center=body.center,\n# direction=body.axis,\n# radius=body.radius,\n# height=body.length)\n\nmacroElectrodes = []\nmicroElectrodes = []\nelecMeshes = []\n\nref_pts = []\nrefSizes = []\n\n# Generate macroelectrodes (bands)\nfor ii in range(nmacro):\n    pt = tipPt + (ii + 1) * pitchMacro * orientation\n\n    geo = xc.geometry.Cylinder(pt, dbody / 2, wmacro, orientation)\n\n    sim.add_current_source(xc.signals.Signal(0), geometry=geo)\n\n    macroElectrodes.append(geo)\n\n    ref_pts.append(geo.center)\n\n    regions.addMesh(xc.geometry.to_pyvista(geo), category=\"Electrodes\")\n\n\n# Generate microelectrodes\nfor ii in range(microRows):\n    rowpt = tipPt + (ii + 0.5) * pitchMacro * orientation\n\n    for jj in range(microCols):\n        rot = Rotation.from_rotvec(orientation * 2 * jj / microCols * np.pi)\n\n        microOrientation = rot.apply(0.5 * dbody * np.array([0.0, 0.0, 1.0]))\n\n        geo = xc.geometry.Disk(center=rowpt + microOrientation, \n                               radius=dmicro / 2, axis=microOrientation, \n                               tol=0.5)\n\n        sim.add_current_source(xc.signals.Signal(0), geometry=geo)\n\n        microElectrodes.append(geo)\n\n        ref_pts.append(geo.center)\n        regions.addMesh(xc.geometry.to_pyvista(geo), category=\"Electrodes\")\n\np = xc.visualizers.PVScene()\np.setup(regions, opacity=0.5)\np.show()"
      ]
    },
    {
      "cell_type": "code",
      "execution_count": null,
      "metadata": {
        "collapsed": false
      },
      "outputs": [],
      "source": [
        "sim.quick_adaptive_grid(max_depth)\n\nvmesh = xc.io.to_vtk(sim.mesh)\nvmesh.cell_data[\"sigma\"] = sigma_0\n\nregions.assign_sigma(sim.mesh, default_sigma=sigma_0)\n\nsim.current_sources[nmacro + 1].value = 150e-6\n\n\nsim.set_boundary_nodes()\nv = sim.solve()\nvmesh.point_data[\"voltage\"] = v\n\nvmesh.set_active_scalars(\"voltage\")"
      ]
    },
    {
      "cell_type": "code",
      "execution_count": null,
      "metadata": {
        "collapsed": false
      },
      "outputs": [],
      "source": [
        "p = xc.visualizers.PVScene()\np.setup(regions)  # , mesh=vmesh, simData='voltage')\n# p.camera.tight(padding=0.1)\np.add_mesh(vmesh.slice(normal=\"z\"), show_edges=True, cmap=xc.colors.CM_BIPOLAR)\ncambox = np.array(hippo.bounds)\ncambox[4:] = 0.0\n# p.reset_camera(bounds=cambox)\np.view_xy()\np.show()\n# sphinx_gallery_thumbnail_number = 3\n\n# Save outputs\nregions.save(\"Geometry/composite.vtm\")"
      ]
    }
  ],
  "metadata": {
    "kernelspec": {
      "display_name": "Python 3",
      "language": "python",
      "name": "python3"
    },
    "language_info": {
      "codemirror_mode": {
        "name": "ipython",
        "version": 3
      },
      "file_extension": ".py",
      "mimetype": "text/x-python",
      "name": "python",
      "nbconvert_exporter": "python",
      "pygments_lexer": "ipython3",
      "version": "3.9.18"
    }
  },
  "nbformat": 4,
  "nbformat_minor": 0
}